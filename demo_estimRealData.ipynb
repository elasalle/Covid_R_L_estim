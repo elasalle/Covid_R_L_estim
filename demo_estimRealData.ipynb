{
 "cells": [
  {
   "cell_type": "code",
   "execution_count": null,
   "outputs": [],
   "source": [
    "from display import display_figures\n",
    "\n",
    "from include.load_data import get_counts\n",
    "from include.estim import Rt_MLE as estimMLE\n",
    "from include.estim import Rt_U_M as estimPL\n",
    "from include.estim import Rt_Cori as estimCori\n",
    "from include.estim import Rt_UO_MO as estimJ\n",
    "from include.optim_tools import slidingMAD"
   ],
   "metadata": {
    "collapsed": false
   }
  },
  {
   "cell_type": "markdown",
   "source": [
    "### Data fetching\n",
    "\n",
    "dataBasis choice between 'SPF' (Santé Publique France) and 'JHU' (Johns Hopkins University)\n",
    "&nbsp;\n",
    "country choice should only be\n",
    "   * 'France' for 'SPF'\n",
    "   * any country available at https://coronavirus.jhu.edu/data for 'JHU'"
   ],
   "metadata": {
    "collapsed": false
   }
  },
  {
   "cell_type": "code",
   "execution_count": null,
   "outputs": [],
   "source": [
    "# Choice of country, dates, regularization parameters & computation\n",
    "dataBasis = 'JHU'\n",
    "country = 'France'\n",
    "firstDay = '2021-11-01'  # first day of the chosen time period\n",
    "lastDay = '2022-08-03'  # last day of the chosen time period\n",
    "\n",
    "# Fetch data and associated dates\n",
    "dates, data = get_counts.get_real_counts(country, firstDay, lastDay, dataBasis)\n",
    "fig, axes, formattedDates = display_figures.display_data(dates, data, \"Daily new cases %s for %s, %s and %s\" % (dataBasis, country, firstDay, lastDay))"
   ],
   "metadata": {
    "collapsed": false
   }
  },
  {
   "cell_type": "markdown",
   "source": [
    "### Maximum Likelihood Estimator\n",
    "* $\\mathsf{R}^{\\mathsf{MLE}} \\in \\mathrm{arg\\,min}_{\\mathsf{R} \\in \\mathbb{R}^{\\mathsf{T}}} -\\ln \\mathsf{Likelihood}(\\mathsf{Z}^{\\mathsf{denoised}}, \\mathsf{R})$"
   ],
   "metadata": {
    "collapsed": false
   }
  },
  {
   "cell_type": "code",
   "execution_count": null,
   "outputs": [],
   "source": [
    "# Analytic computation\n",
    "R_MLE, datesMLE, dataMLE = estimMLE.Rt_MLE(dates, data)\n",
    "\n",
    "# Display figures\n",
    "figMLE, axesMLE, formattedDatesMLE = display_figures.display_REstim(datesMLE, dataMLE, R_MLE, 'MLE', dataUnder=True)"
   ],
   "metadata": {
    "collapsed": false
   }
  },
  {
   "cell_type": "markdown",
   "source": [
    "### Cori Estimator\n",
    "\n",
    "Following the article \"A New Framework and Software to Estimate Time-Varying Reproduction Numbers During Epidemics\", Cori et al., 2013, Am. Journal of Epidemiology, R estimation is made using Bayesian framework resulting in:\n",
    "\n",
    "&nbsp;\n",
    "$\\mathsf{R}^{\\mathsf{Cori}} = \\frac{1 + \\sum_{s=t-\\tau}^{t}\\mathsf{Z}_s}{5 + \\sum_{s=t-\\tau}^{t}(\\Phi\\star\\mathsf{Z})_s}$\n",
    "\n",
    "Here $\\tau = 15$"
   ],
   "metadata": {
    "collapsed": false
   }
  },
  {
   "cell_type": "code",
   "execution_count": null,
   "outputs": [],
   "source": [
    "# Analytic computation\n",
    "R_Cori, datesCori, dataCori = estimCori.Rt_C(dates, data)\n",
    "\n",
    "# Display results\n",
    "figCori, axesCori, formattedDatesCori = display_figures.display_REstim(datesCori, dataCori, R_Cori, 'Cori', dataUnder=True)"
   ],
   "metadata": {
    "collapsed": false
   }
  },
  {
   "cell_type": "markdown",
   "source": [
    "### Penalized Likelihood estimation\n",
    "\n",
    "1. $\\mathsf{Z}^{\\mathsf{denoised}} = \\mathsf{slidingMAD}(\\mathsf{Z}, \\alpha)$\n",
    "    &nbsp;\n",
    "\n",
    "    with sliding Median Absolute Deviation (MAD) that can be tuned using $\\alpha \\geq 0$:\n",
    "    - small $\\alpha$ : lot of data denoised\n",
    "    - great $\\alpha$ : few data denoised\n",
    "\n",
    "2. Solving the Penalized Likelihood functional with Chambolle-Pock algorithm\n",
    "    &nbsp;\n",
    "   $\\mathsf{R}^{\\mathsf{PL}} \\in \\mathrm{arg\\,min}_{\\mathsf{R} \\in \\mathbb{R}^{\\mathsf{T}}} -\\ln \\mathsf{Likelihood}(\\mathsf{Z}^{\\mathsf{denoised}}, \\mathsf{R}) +\\mu_\\mathsf{R} \\|\\boldsymbol{\\mathsf{D}}_2\\mathsf{R}\\|_1$"
   ],
   "metadata": {
    "collapsed": false
   }
  },
  {
   "cell_type": "code",
   "execution_count": null,
   "outputs": [],
   "source": [
    "# from include.estim import Rt_U_M as estimPL\n",
    "# Choice of denoising parameter alpha and regularization parameter muR\n",
    "alpha = 0.1\n",
    "muR = 50\n",
    "\n",
    "# Denoising with sliding MAD then solving with Chambolle-Pock algorithm\n",
    "denoisedData = slidingMAD.slidingMAD(data, alpha)\n",
    "R_PL, datesPL, denoisedDataPL = estimPL.Rt_U_M(dates, denoisedData, muR=muR)\n",
    "\n",
    "# Display results\n",
    "dataCropped = data[1:]  # data[0] is used for burn-in\n",
    "figPL, axesPL, formattedDatesPL = display_figures.display_REstim(datesPL, dataCropped, R_PL, 'PL', OEstimate=dataCropped - denoisedDataPL, dataUnder=True)"
   ],
   "metadata": {
    "collapsed": false
   }
  },
  {
   "cell_type": "markdown",
   "source": [
    "### Joint estimation\n",
    "\n",
    "Solving the following Joint penalized likelihood functional using Chambolle-Pock algorithm\n",
    "&nbsp;\n",
    "$\\mathsf{R}^{\\mathsf{Joint}}, \\mathsf{O}^{\\mathsf{Joint}} \\in \\mathrm{arg\\,min}_{\\mathsf{R}, \\mathsf{O} \\in \\mathbb{R}^{\\mathsf{T}}} -\\ln \\mathsf{Likelihood}(\\mathsf{Z}, \\mathsf{R}, \\mathsf{O}) +\\lambda_\\mathsf{R} \\|\\boldsymbol{\\mathsf{D}}_2\\mathsf{R}\\|_1 + \\lambda_\\mathsf{O} \\|\\mathsf{O}\\|_1$\n",
    "\n",
    "* A greater $\\lambda_R$ means less slope ruptures\n",
    "* A greater $\\lambda_O$ means less denoising\n",
    "&nbsp;\n",
    "\n",
    "* For examples, see settings.RegularizationSettings"
   ],
   "metadata": {
    "collapsed": false
   }
  },
  {
   "cell_type": "code",
   "execution_count": null,
   "outputs": [],
   "source": [
    "# Choice of denoising parameter alpha and regularization parameter muR\n",
    "lambdaR = 3.5\n",
    "lambdaO = 0.03\n",
    "\n",
    "# Other options\n",
    "# lambdaR = 50\n",
    "# lambdaO = 0.75\n",
    "\n",
    "# Solving with Chambolle-Pock algorithm\n",
    "R_Joint, O_Joint, datesJ, dataJ = estimJ.Rt_UO_MO(dates, data, lambdaR=lambdaR, lambdaO=lambdaO)\n",
    "\n",
    "# Display results\n",
    "figJoint, axesJoint, formattedDatesJoint = display_figures.display_REstim(datesJ, dataJ, R_Joint, 'Joint', OEstimate=O_Joint, dataUnder=True)"
   ],
   "metadata": {
    "collapsed": false
   }
  },
  {
   "cell_type": "code",
   "execution_count": null,
   "outputs": [],
   "source": [
    "# Gather all methods\n",
    "methods = ['MLE', 'Cori', 'PL', 'Joint']\n",
    "REstimations = {'MLE': R_MLE,\n",
    "                'Cori': R_Cori,\n",
    "                'PL': R_PL,\n",
    "                'Joint': R_Joint}\n",
    "\n",
    "OEstimations = {'PL': dataCropped - denoisedDataPL,\n",
    "                'Joint': O_Joint}\n",
    "\n",
    "# Display comparison between methods\n",
    "figComp, axesComp, formattedDatesComp = display_figures.display_REstim(datesJ, dataJ, REstimations, methods, OEstimate=OEstimations, comparison=True, dataUnder=True)"
   ],
   "metadata": {
    "collapsed": false
   }
  }
 ],
 "metadata": {
  "kernelspec": {
   "display_name": "Python 3 (ipykernel)",
   "language": "python",
   "name": "python3"
  },
  "language_info": {
   "codemirror_mode": {
    "name": "ipython",
    "version": 3
   },
   "file_extension": ".py",
   "mimetype": "text/x-python",
   "name": "python",
   "nbconvert_exporter": "python",
   "pygments_lexer": "ipython3",
   "version": "3.9.13"
  }
 },
 "nbformat": 4,
 "nbformat_minor": 1
}
