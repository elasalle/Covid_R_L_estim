{
 "cells": [
  {
   "cell_type": "code",
   "execution_count": null,
   "outputs": [],
   "source": [
    "from display.display_figures import display_data, display_REstim, display_REstim2D\n",
    "\n",
    "# For data reading purposes\n",
    "from include.load_data.get_counts import get_real_counts_by_county\n",
    "from include.load_data import get_counts\n",
    "\n",
    "# For independent denoising\n",
    "from include.optim_tools.slidingMAD import slidingMAD\n",
    "\n",
    "# For Rt estimation\n",
    "from include.estim.Rt_MLE import Rt_MLE\n",
    "from include.estim.Rt_Gamma import Rt_Gamma\n",
    "from include.estim.Rt_Univariate import Rt_Univariate\n",
    "from include.estim.Rt_UnivariateOutliers import Rt_Univariate_Outliers\n",
    "from include.estim.Rt_Multivariate import Rt_Multivariate"
   ],
   "metadata": {
    "collapsed": false,
    "ExecuteTime": {
     "start_time": "2024-03-21T16:47:13.548758Z",
     "end_time": "2024-03-21T16:47:14.879971Z"
    }
   }
  },
  {
   "cell_type": "markdown",
   "source": [
    "## Univariate reproduction number estimations on real-world infection counts\n",
    "### Data fetching\n",
    "\n",
    "dataBasis choice between `SPF` (Santé Publique France) and `JHU` (Johns Hopkins University)\n",
    "&nbsp;\n",
    "country choice should only be\n",
    "   * `France` for `SPF`\n",
    "   * any country available at https://coronavirus.jhu.edu/data for `JHU`"
   ],
   "metadata": {
    "collapsed": false
   }
  },
  {
   "cell_type": "code",
   "execution_count": null,
   "outputs": [],
   "source": [
    "# Choice of country, dates, regularization parameters & computation\n",
    "dataBasis = 'JHU'\n",
    "country = 'France'\n",
    "firstDay = '2021-11-01'  # first day of the chosen time period\n",
    "lastDay = '2022-08-03'  # last day of the chosen time period\n",
    "\n",
    "# Fetch data and associated dates\n",
    "dates, data = get_counts.get_real_counts(country, firstDay, lastDay, dataBasis)\n",
    "display_data(dates, data, \"Daily new cases %s for %s, %s and %s\" % (dataBasis, country, firstDay, lastDay));"
   ],
   "metadata": {
    "collapsed": false,
    "ExecuteTime": {
     "start_time": "2024-03-21T16:47:14.879971Z",
     "end_time": "2024-03-21T16:47:25.819727Z"
    }
   }
  },
  {
   "cell_type": "markdown",
   "source": [
    "### Maximum Likelihood Estimator\n",
    "$$\\mathsf{R}^{\\mathsf{MLE}} = \\frac{ \\mathsf{Z}}{\\mathsf{Z}\\Phi}$$"
   ],
   "metadata": {
    "collapsed": false
   }
  },
  {
   "cell_type": "code",
   "execution_count": null,
   "outputs": [],
   "source": [
    "# Analytic computation\n",
    "Rt_MLE, datesMLE, dataMLE = Rt_MLE(dates, data)\n",
    "\n",
    "# Display figures\n",
    "display_REstim(datesMLE, dataMLE, Rt_MLE, 'MLE');"
   ],
   "metadata": {
    "collapsed": false,
    "ExecuteTime": {
     "start_time": "2024-03-21T16:47:25.819727Z",
     "end_time": "2024-03-21T16:47:26.189379Z"
    }
   }
  },
  {
   "cell_type": "markdown",
   "source": [
    "### Bayesian Estimator\n",
    "\n",
    "Following the article \"A New Framework and Software to Estimate Time-Varying Reproduction Numbers During Epidemics\", Cori et al., 2013, Am. Journal of Epidemiology, R estimation is made using Bayesian framework resulting in:\n",
    "\n",
    "$$\\mathsf{R}_t^\\Gamma = \\frac{1 + \\sum_{s=t-\\tau}^{t}\\mathsf{Z}_s}{5 + \\sum_{s=t-\\tau}^{t}(\\Phi\\star\\mathsf{Z})_s}$$\n",
    "\n",
    "Here $\\tau = 15$"
   ],
   "metadata": {
    "collapsed": false
   }
  },
  {
   "cell_type": "code",
   "execution_count": null,
   "outputs": [],
   "source": [
    "# Analytic computation\n",
    "Rt_Gamma, datesGamma, dataGamma = Rt_Gamma(dates, data)\n",
    "\n",
    "# Display results\n",
    "display_REstim(datesGamma, dataGamma, Rt_Gamma, 'Gamma');"
   ],
   "metadata": {
    "collapsed": false,
    "ExecuteTime": {
     "start_time": "2024-03-21T16:47:26.213843Z",
     "end_time": "2024-03-21T16:47:26.557571Z"
    }
   }
  },
  {
   "cell_type": "markdown",
   "source": [
    "### Penalized Likelihood estimation\n",
    "\n",
    "1. $\\mathsf{Z}^{\\mathsf{denoised}} = \\mathsf{slidingMAD}(\\mathsf{Z}, \\alpha)$\n",
    "    &nbsp;\n",
    "\n",
    "    with sliding Median Absolute Deviation (MAD) that can be tuned using $\\alpha \\geq 0$:\n",
    "    - small $\\alpha$ : lot of data denoised\n",
    "    - great $\\alpha$ : few data denoised\n",
    "\n",
    "2. Solving the Penalized Likelihood functional with Chambolle-Pock algorithm\n",
    "\n",
    "   $$\\mathsf{R}^{\\mathsf{PL}} \\in \\mathrm{arg\\,min}_{\\mathsf{R} \\in \\mathbb{R}^{\\mathsf{T}}} -\\ln \\mathsf{Likelihood}(\\mathsf{Z}^{\\mathsf{denoised}}, \\mathsf{R}) +\\mu_\\mathsf{R} \\|\\boldsymbol{\\mathsf{D}}_2\\mathsf{R}\\|_1$$"
   ],
   "metadata": {
    "collapsed": false
   }
  },
  {
   "cell_type": "code",
   "execution_count": null,
   "outputs": [],
   "source": [
    "# Choice of denoising parameter alpha and regularization parameter muR\n",
    "alpha = 0.1\n",
    "muR = 50\n",
    "\n",
    "# Denoising with sliding MAD then solving with Chambolle-Pock algorithm\n",
    "MAD_data = slidingMAD(data, alpha)\n",
    "Rt_U, datesU, MAD_dataU = Rt_Univariate(dates, MAD_data, muR=muR)\n",
    "\n",
    "# Display results\n",
    "dataCropped = data[1:]  # data[0] is used for burn-in\n",
    "Ot_U = dataCropped - MAD_dataU\n",
    "display_REstim(datesU, dataCropped, Rt_U, 'U', OEstimate=Ot_U);"
   ],
   "metadata": {
    "collapsed": false,
    "ExecuteTime": {
     "start_time": "2024-03-21T16:47:26.538284Z",
     "end_time": "2024-03-21T16:47:32.721953Z"
    }
   }
  },
  {
   "cell_type": "markdown",
   "source": [
    "### Joint estimation\n",
    "\n",
    "Solving the following Joint penalized likelihood functional using Chambolle-Pock algorithm\n",
    "\n",
    "$$\\mathsf{R}^{\\mathsf{Joint}}, \\mathsf{O}^{\\mathsf{Joint}} \\in \\mathrm{arg\\,min}_{\\mathsf{R}, \\mathsf{O} \\in \\mathbb{R}^{\\mathsf{T}}} -\\ln \\mathsf{Likelihood}(\\mathsf{Z}, \\mathsf{R}, \\mathsf{O}) +\\lambda_\\mathsf{R} \\|\\boldsymbol{\\mathsf{D}}_2\\mathsf{R}\\|_1 + \\lambda_\\mathsf{O} \\|\\mathsf{O}\\|_1$$\n",
    "\n",
    "* A greater $\\lambda_R$ means less slope ruptures\n",
    "* A greater $\\lambda_O$ means less denoising\n",
    "&nbsp;\n",
    "\n",
    "* For examples, see settings.RegularizationSettings"
   ],
   "metadata": {
    "collapsed": false
   }
  },
  {
   "cell_type": "code",
   "execution_count": null,
   "outputs": [],
   "source": [
    "# Choice of denoising parameter alpha and regularization parameter muR\n",
    "lambdaR = 3.5\n",
    "lambdaO = 0.03\n",
    "\n",
    "# Other options\n",
    "# lambdaR = 50\n",
    "# lambdaO = 0.75\n",
    "\n",
    "# Solving with Chambolle-Pock algorithm\n",
    "Rt_UO, Ot_UO, datesUO, datesUO = Rt_Univariate_Outliers(dates, data, lambdaR=lambdaR, lambdaO=lambdaO)\n",
    "\n",
    "# Display results\n",
    "display_REstim(datesUO, datesUO, Rt_UO, 'U-O', OEstimate=Ot_UO);"
   ],
   "metadata": {
    "collapsed": false,
    "ExecuteTime": {
     "start_time": "2024-03-21T16:47:32.726659Z",
     "end_time": "2024-03-21T16:48:10.350563Z"
    }
   }
  },
  {
   "cell_type": "code",
   "execution_count": null,
   "outputs": [],
   "source": [
    "# Gather all methods\n",
    "methods = ['MLE', 'Cori', 'PL', 'Joint']\n",
    "REstimations = {'MLE': Rt_MLE,\n",
    "                'Gamma': Rt_Gamma,\n",
    "                'U': Rt_U,\n",
    "                'U-O': Rt_UO}\n",
    "\n",
    "OEstimations = {'U': dataCropped - MAD_dataU,\n",
    "                'U-O': Ot_UO}\n",
    "\n",
    "# Display comparison between methods\n",
    "display_REstim(datesUO, datesUO, REstimations, methods, OEstimate=OEstimations, comparison=True);"
   ],
   "metadata": {
    "collapsed": false,
    "ExecuteTime": {
     "start_time": "2024-03-21T16:48:10.350563Z",
     "end_time": "2024-03-21T16:48:13.342063Z"
    }
   }
  },
  {
   "cell_type": "markdown",
   "source": [
    "## Multivariate reproduction number estimations on real-world infection counts"
   ],
   "metadata": {
    "collapsed": false
   }
  },
  {
   "cell_type": "code",
   "execution_count": null,
   "outputs": [],
   "source": [
    "# Crop data according to chosen dates and spatial splitting\n",
    "firstDay = '2021-11-03'\n",
    "lastDay = '2022-03-04'\n",
    "\n",
    "data, optionsSpat = get_real_counts_by_county(firstDay, lastDay, 'SPF')\n"
   ],
   "metadata": {
    "collapsed": false,
    "ExecuteTime": {
     "start_time": "2024-03-21T16:48:13.287605Z",
     "end_time": "2024-03-21T16:48:13.757518Z"
    }
   }
  },
  {
   "cell_type": "code",
   "execution_count": null,
   "outputs": [],
   "source": [
    "# Choice of regularization parameters\n",
    "lambdaR = 50  # lambda for time\n",
    "lambdaS = 0.005\n",
    "\n",
    "REstimate, datesUpdated, dataCrop = Rt_Multivariate(data, lambdaR, lambdaS, optionsSpat)"
   ],
   "metadata": {
    "collapsed": false,
    "ExecuteTime": {
     "start_time": "2024-03-21T16:48:13.757518Z",
     "end_time": "2024-03-21T16:48:49.682568Z"
    }
   }
  },
  {
   "cell_type": "code",
   "execution_count": null,
   "outputs": [],
   "source": [
    "display_REstim2D(datesUpdated, dataCrop[:5], REstimate[:5], optionsSpat['counties'][:5]);"
   ],
   "metadata": {
    "collapsed": false,
    "ExecuteTime": {
     "start_time": "2024-03-21T16:48:49.692083Z",
     "end_time": "2024-03-21T16:49:06.094235Z"
    }
   }
  }
 ],
 "metadata": {
  "kernelspec": {
   "display_name": "Python 3 (ipykernel)",
   "language": "python",
   "name": "python3"
  },
  "language_info": {
   "codemirror_mode": {
    "name": "ipython",
    "version": 3
   },
   "file_extension": ".py",
   "mimetype": "text/x-python",
   "name": "python",
   "nbconvert_exporter": "python",
   "pygments_lexer": "ipython3",
   "version": "3.9.13"
  }
 },
 "nbformat": 4,
 "nbformat_minor": 1
}
