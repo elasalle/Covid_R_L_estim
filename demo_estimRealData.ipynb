{
 "cells": [
  {
   "cell_type": "code",
   "execution_count": null,
   "outputs": [],
   "source": [
    "from display import display_figures\n",
    "\n",
    "from include.load_data import get_counts\n",
    "\n",
    "from include.optim_tools import slidingMAD\n",
    "\n",
    "from include.estim.Rt_MLE import Rt_MLE\n",
    "from include.estim.Rt_Gamma import Rt_Gamma\n",
    "from include.estim import Rt_Univariate as estimU\n",
    "from include.estim import Rt_UnivariateOutliers as estimUO\n",
    "\n",
    "from include.estim import Rt_Multivariate as estimM\n",
    "from include.estim import Rt_MultivariateOutliers as estimMO"
   ],
   "metadata": {
    "collapsed": false,
    "ExecuteTime": {
     "start_time": "2024-03-21T16:47:13.548758Z",
     "end_time": "2024-03-21T16:47:14.879971Z"
    }
   }
  },
  {
   "cell_type": "markdown",
   "source": [
    "## Univariate reproduction number estimations on real-world infection counts\n",
    "### Data fetching\n",
    "\n",
    "dataBasis choice between `SPF` (Santé Publique France) and `JHU` (Johns Hopkins University)\n",
    "&nbsp;\n",
    "country choice should only be\n",
    "   * `France` for `SPF`\n",
    "   * any country available at https://coronavirus.jhu.edu/data for `JHU`"
   ],
   "metadata": {
    "collapsed": false
   }
  },
  {
   "cell_type": "code",
   "execution_count": null,
   "outputs": [],
   "source": [
    "# Choice of country, dates, regularization parameters & computation\n",
    "dataBasis = 'JHU'\n",
    "country = 'France'\n",
    "firstDay = '2021-11-01'  # first day of the chosen time period\n",
    "lastDay = '2022-08-03'  # last day of the chosen time period\n",
    "\n",
    "# Fetch data and associated dates\n",
    "dates, data = get_counts.get_real_counts(country, firstDay, lastDay, dataBasis)\n",
    "fig, axes, formattedDates = display_figures.display_data(dates, data, \"Daily new cases %s for %s, %s and %s\" % (dataBasis, country, firstDay, lastDay))"
   ],
   "metadata": {
    "collapsed": false,
    "ExecuteTime": {
     "start_time": "2024-03-21T16:47:14.879971Z",
     "end_time": "2024-03-21T16:47:25.819727Z"
    }
   }
  },
  {
   "cell_type": "markdown",
   "source": [
    "### Maximum Likelihood Estimator\n",
    "$$\\mathsf{R}^{\\mathsf{MLE}} = \\frac{ \\mathsf{Z}}{\\mathsf{Z}\\Phi}$$"
   ],
   "metadata": {
    "collapsed": false
   }
  },
  {
   "cell_type": "code",
   "execution_count": null,
   "outputs": [],
   "source": [
    "# Analytic computation\n",
    "R_MLE, datesMLE, dataMLE = Rt_MLE(dates, data)\n",
    "\n",
    "# Display figures\n",
    "figMLE, axesMLE, formattedDatesMLE = display_figures.display_REstim(datesMLE, dataMLE, R_MLE, 'MLE', dataUnder=True)"
   ],
   "metadata": {
    "collapsed": false,
    "ExecuteTime": {
     "start_time": "2024-03-21T16:47:25.819727Z",
     "end_time": "2024-03-21T16:47:26.189379Z"
    }
   }
  },
  {
   "cell_type": "markdown",
   "source": [
    "### Bayesian Estimator\n",
    "\n",
    "Following the article \"A New Framework and Software to Estimate Time-Varying Reproduction Numbers During Epidemics\", Cori et al., 2013, Am. Journal of Epidemiology, R estimation is made using Bayesian framework resulting in:\n",
    "\n",
    "&nbsp;\n",
    "$\\mathsf{R}_t^\\Gamma = \\frac{1 + \\sum_{s=t-\\tau}^{t}\\mathsf{Z}_s}{5 + \\sum_{s=t-\\tau}^{t}(\\Phi\\star\\mathsf{Z})_s}$\n",
    "\n",
    "Here $\\tau = 15$"
   ],
   "metadata": {
    "collapsed": false
   }
  },
  {
   "cell_type": "code",
   "execution_count": null,
   "outputs": [],
   "source": [
    "# Analytic computation\n",
    "R_Cori, datesCori, dataCori = Rt_Gamma(dates, data)\n",
    "\n",
    "# Display results\n",
    "figCori, axesCori, formattedDatesCori = display_figures.display_REstim(datesCori, dataCori, R_Cori, 'Cori', dataUnder=True)"
   ],
   "metadata": {
    "collapsed": false,
    "ExecuteTime": {
     "start_time": "2024-03-21T16:47:26.213843Z",
     "end_time": "2024-03-21T16:47:26.557571Z"
    }
   }
  },
  {
   "cell_type": "markdown",
   "source": [
    "### Penalized Likelihood estimation\n",
    "\n",
    "1. $\\mathsf{Z}^{\\mathsf{denoised}} = \\mathsf{slidingMAD}(\\mathsf{Z}, \\alpha)$\n",
    "    &nbsp;\n",
    "\n",
    "    with sliding Median Absolute Deviation (MAD) that can be tuned using $\\alpha \\geq 0$:\n",
    "    - small $\\alpha$ : lot of data denoised\n",
    "    - great $\\alpha$ : few data denoised\n",
    "\n",
    "2. Solving the Penalized Likelihood functional with Chambolle-Pock algorithm\n",
    "    &nbsp;\n",
    "   $\\mathsf{R}^{\\mathsf{PL}} \\in \\mathrm{arg\\,min}_{\\mathsf{R} \\in \\mathbb{R}^{\\mathsf{T}}} -\\ln \\mathsf{Likelihood}(\\mathsf{Z}^{\\mathsf{denoised}}, \\mathsf{R}) +\\mu_\\mathsf{R} \\|\\boldsymbol{\\mathsf{D}}_2\\mathsf{R}\\|_1$"
   ],
   "metadata": {
    "collapsed": false
   }
  },
  {
   "cell_type": "code",
   "execution_count": null,
   "outputs": [],
   "source": [
    "# from include.estim import Rt_U_M as estimPL\n",
    "# Choice of denoising parameter alpha and regularization parameter muR\n",
    "alpha = 0.1\n",
    "muR = 50\n",
    "\n",
    "# Denoising with sliding MAD then solving with Chambolle-Pock algorithm\n",
    "denoisedData = slidingMAD.slidingMAD(data, alpha)\n",
    "R_PL, datesPL, denoisedDataPL = estimU.Rt_Univariate(dates, denoisedData, muR=muR)\n",
    "\n",
    "# Display results\n",
    "dataCropped = data[1:]  # data[0] is used for burn-in\n",
    "figPL, axesPL, formattedDatesPL = display_figures.display_REstim(datesPL, dataCropped, R_PL, 'PL', OEstimate=dataCropped - denoisedDataPL, dataUnder=True)"
   ],
   "metadata": {
    "collapsed": false,
    "ExecuteTime": {
     "start_time": "2024-03-21T16:47:26.538284Z",
     "end_time": "2024-03-21T16:47:32.721953Z"
    }
   }
  },
  {
   "cell_type": "markdown",
   "source": [
    "### Joint estimation\n",
    "\n",
    "Solving the following Joint penalized likelihood functional using Chambolle-Pock algorithm\n",
    "&nbsp;\n",
    "$\\mathsf{R}^{\\mathsf{Joint}}, \\mathsf{O}^{\\mathsf{Joint}} \\in \\mathrm{arg\\,min}_{\\mathsf{R}, \\mathsf{O} \\in \\mathbb{R}^{\\mathsf{T}}} -\\ln \\mathsf{Likelihood}(\\mathsf{Z}, \\mathsf{R}, \\mathsf{O}) +\\lambda_\\mathsf{R} \\|\\boldsymbol{\\mathsf{D}}_2\\mathsf{R}\\|_1 + \\lambda_\\mathsf{O} \\|\\mathsf{O}\\|_1$\n",
    "\n",
    "* A greater $\\lambda_R$ means less slope ruptures\n",
    "* A greater $\\lambda_O$ means less denoising\n",
    "&nbsp;\n",
    "\n",
    "* For examples, see settings.RegularizationSettings"
   ],
   "metadata": {
    "collapsed": false
   }
  },
  {
   "cell_type": "code",
   "execution_count": null,
   "outputs": [],
   "source": [
    "# Choice of denoising parameter alpha and regularization parameter muR\n",
    "lambdaR = 3.5\n",
    "lambdaO = 0.03\n",
    "\n",
    "# Other options\n",
    "# lambdaR = 50\n",
    "# lambdaO = 0.75\n",
    "\n",
    "# Solving with Chambolle-Pock algorithm\n",
    "R_Joint, O_Joint, datesJ, dataJ = estimUO.Rt_Univariate_Outliers(dates, data, lambdaR=lambdaR, lambdaO=lambdaO)\n",
    "\n",
    "# Display results\n",
    "display_figures.display_REstim(datesJ, dataJ, R_Joint, 'Joint', OEstimate=O_Joint, dataUnder=True);"
   ],
   "metadata": {
    "collapsed": false,
    "ExecuteTime": {
     "start_time": "2024-03-21T16:47:32.726659Z",
     "end_time": "2024-03-21T16:48:10.350563Z"
    }
   }
  },
  {
   "cell_type": "code",
   "execution_count": null,
   "outputs": [],
   "source": [
    "# Gather all methods\n",
    "methods = ['MLE', 'Cori', 'PL', 'Joint']\n",
    "REstimations = {'MLE': R_MLE,\n",
    "                'Cori': R_Cori,\n",
    "                'PL': R_PL,\n",
    "                'Joint': R_Joint}\n",
    "\n",
    "OEstimations = {'PL': dataCropped - denoisedDataPL,\n",
    "                'Joint': O_Joint}\n",
    "\n",
    "# Display comparison between methods\n",
    "display_figures.display_REstim(datesJ, dataJ, REstimations, methods, OEstimate=OEstimations, comparison=True, dataUnder=True);"
   ],
   "metadata": {
    "collapsed": false,
    "ExecuteTime": {
     "start_time": "2024-03-21T16:48:10.350563Z",
     "end_time": "2024-03-21T16:48:13.342063Z"
    }
   }
  },
  {
   "cell_type": "markdown",
   "source": [
    "## Multivariate reproduction number estimations on real-world infection counts"
   ],
   "metadata": {
    "collapsed": false
   }
  },
  {
   "cell_type": "code",
   "execution_count": null,
   "outputs": [],
   "source": [
    "# For data reading purposes\n",
    "from scipy.io import loadmat\n",
    "from include.load_data.get_counts import get_real_counts_by_county\n",
    "\n",
    "from include.optim_tools.transposed_incidence_matrix import transposed_incidence_matrix\n",
    "\n",
    "# Crop data according to chosen dates and spatial splitting\n",
    "firstDay = '2021-11-03'\n",
    "lastDay = '2022-03-04'\n",
    "\n",
    "# output = get_real_counts_by_county(firstDay, lastDay, 'SPF')\n",
    "# output = {'dates': dates, 'data': data, 'counties': counties}\n",
    "dates, data, counties = get_real_counts_by_county(firstDay, lastDay, 'SPF')\n",
    "# Create the G matrix used to define the Graph Total Variation ----------------------------------------------\n",
    "departementsContigus = loadmat('include/load_data/departement_contigus.mat')\n",
    "strucMat = departementsContigus['matrice']  # french for matrix\n",
    "strucMat[-1, -1] = 1  # correction of a mistake : every dep verifies depContMatrix[i, i] = 1\n",
    "\n",
    "B_matrix = transposed_incidence_matrix(strucMat[:10, :10])"
   ],
   "metadata": {
    "collapsed": false,
    "ExecuteTime": {
     "start_time": "2024-03-21T16:48:13.287605Z",
     "end_time": "2024-03-21T16:48:13.757518Z"
    }
   }
  },
  {
   "cell_type": "code",
   "execution_count": null,
   "outputs": [],
   "source": [
    "# Choice of regularization parameters\n",
    "lambdaR = 50  # lambda for time\n",
    "# lambdaO = 0.02  # lambda for outliers\n",
    "lambdaS = 0.005\n",
    "\n",
    "REstimate, datesUpdated, dataCrop = estimM.Rt_Multivariate(dates, data[:10], B_matrix, lambdaR, lambdaS)"
   ],
   "metadata": {
    "collapsed": false,
    "ExecuteTime": {
     "start_time": "2024-03-21T16:48:13.757518Z",
     "end_time": "2024-03-21T16:48:49.682568Z"
    }
   }
  },
  {
   "cell_type": "code",
   "execution_count": null,
   "outputs": [],
   "source": [
    "display_figures.display_REstim2D(datesUpdated, dataCrop[:5], REstimate[:5], counties[:5], dataDisp=True);"
   ],
   "metadata": {
    "collapsed": false,
    "ExecuteTime": {
     "start_time": "2024-03-21T16:48:49.692083Z",
     "end_time": "2024-03-21T16:49:06.094235Z"
    }
   }
  }
 ],
 "metadata": {
  "kernelspec": {
   "display_name": "Python 3 (ipykernel)",
   "language": "python",
   "name": "python3"
  },
  "language_info": {
   "codemirror_mode": {
    "name": "ipython",
    "version": 3
   },
   "file_extension": ".py",
   "mimetype": "text/x-python",
   "name": "python",
   "nbconvert_exporter": "python",
   "pygments_lexer": "ipython3",
   "version": "3.9.13"
  }
 },
 "nbformat": 4,
 "nbformat_minor": 1
}
