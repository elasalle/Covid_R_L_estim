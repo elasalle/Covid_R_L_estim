{
 "cells": [
  {
   "cell_type": "code",
   "execution_count": null,
   "outputs": [],
   "source": [
    "from display.display_figures import display_data, display_REstim, display_REstim_by_dpt\n",
    "\n",
    "# For data reading purposes\n",
    "from include.load_data.get_counts import get_real_counts_by_county\n",
    "from include.load_data import get_counts\n",
    "\n",
    "# For independent denoising\n",
    "from include.optim_tools.sliding_median import sliding_median\n",
    "\n",
    "# For Rt estimation\n",
    "from include.estim.Rt_MLE import Rt_MLE\n",
    "from include.estim.Rt_Gamma import Rt_Gamma\n",
    "from include.estim.Rt_Univariate import Rt_U\n",
    "from include.estim.Rt_UnivariateOutliers import Rt_U_O\n",
    "from include.estim.Rt_Multivariate import Rt_M"
   ],
   "metadata": {
    "collapsed": false,
    "ExecuteTime": {
     "start_time": "2024-03-25T09:57:42.154807Z",
     "end_time": "2024-03-25T09:57:42.978439Z"
    }
   }
  },
  {
   "cell_type": "markdown",
   "source": [
    "## Univariate reproduction number estimations on real-world infection counts\n",
    "### Data fetching\n",
    "\n",
    "dataBasis choice between `SPF` (Santé Publique France) and `JHU` (Johns Hopkins University)\n",
    "&nbsp;\n",
    "country choice should only be\n",
    "   * `France` for `SPF`\n",
    "   * any country available for `JHU`"
   ],
   "metadata": {
    "collapsed": false
   }
  },
  {
   "cell_type": "code",
   "execution_count": null,
   "outputs": [],
   "source": [
    "# Choice of country, dates, regularization parameters & computation\n",
    "dataBasis = 'JHU'\n",
    "country = 'France'\n",
    "firstDay = '2021-11-01'  # first day of the chosen time period\n",
    "lastDay = '2022-08-03'  # last day of the chosen time period\n",
    "\n",
    "# Fetch data and associated dates\n",
    "ZData, options = get_counts.get_real_counts(country, firstDay, lastDay, dataBasis)\n",
    "\n",
    "display_data(ZData, options=options);"
   ],
   "metadata": {
    "collapsed": false,
    "ExecuteTime": {
     "start_time": "2024-03-25T09:57:42.979446Z",
     "end_time": "2024-03-25T09:57:47.918203Z"
    }
   }
  },
  {
   "cell_type": "markdown",
   "source": [
    "### Maximum Likelihood Estimator\n",
    "$$ \\widehat{\\mathsf{R}}_t^{\\mathsf{MLE}} = \\frac{\\mathsf{Z}_t}{\\Phi^{\\boldsymbol{\\mathsf{Z}}}_{t}} $$\n",
    "\n",
    "where $\\Phi^{\\boldsymbol{\\mathsf{Z}}}_{t} = \\sum_{s=1}^{26} \\phi(s) \\mathsf{Z}_{t - s}$ with the *serial interval function* $\\phi$ accounting for the random delay between primary and secondary infection, modeled by a Gamma distribution vanishing after 26 days."
   ],
   "metadata": {
    "collapsed": false
   }
  },
  {
   "cell_type": "code",
   "execution_count": null,
   "outputs": [],
   "source": [
    "# Analytic computation\n",
    "Rt_MLE, options_MLE = Rt_MLE(ZData, options=options)\n",
    "\n",
    "# Display figures\n",
    "display_REstim(Rt_MLE, options_MLE);"
   ],
   "metadata": {
    "collapsed": false,
    "ExecuteTime": {
     "start_time": "2024-03-25T09:57:47.919201Z",
     "end_time": "2024-03-25T09:57:49.366189Z"
    }
   }
  },
  {
   "cell_type": "markdown",
   "source": [
    "### Bayesian Estimator\n",
    "\n",
    "Following the article \"A New Framework and Software to Estimate Time-Varying Reproduction Numbers During Epidemics\", Cori et al., 2013, Am. Journal of Epidemiology, R estimation is made using Bayesian framework resulting in:\n",
    "\n",
    "$$\\widehat{\\mathsf{R}}_t^\\Gamma = \\frac{1 + \\sum_{s=t-\\tau}^{t}\\mathsf{Z}_s}{5 + \\sum_{s=t-\\tau}^{t}\\Phi^{\\boldsymbol{\\mathsf{Z}}}_{s}}$$\n",
    "\n",
    "Here $\\tau = 15$"
   ],
   "metadata": {
    "collapsed": false
   }
  },
  {
   "cell_type": "code",
   "execution_count": null,
   "outputs": [],
   "source": [
    "# Choice of the hyperparameter\n",
    "tau = 15\n",
    "\n",
    "# Analytic computation\n",
    "Rt_Gamma, options_Gamma = Rt_Gamma(ZData, tau=tau, options=options)\n",
    "\n",
    "# Display results\n",
    "display_REstim(Rt_Gamma, options_Gamma);"
   ],
   "metadata": {
    "collapsed": false,
    "ExecuteTime": {
     "start_time": "2024-03-25T09:57:49.369410Z",
     "end_time": "2024-03-25T09:57:49.707369Z"
    }
   }
  },
  {
   "cell_type": "markdown",
   "source": [
    "### Univariate estimation\n",
    "\n",
    "1. Pre-processing with a sliding median in [5], <b> not performed in </b> [6]:\n",
    "    $\\mathsf{Z}^{\\mathsf{denoised}} =$ `sliding_median`$(\\mathsf{Z}, \\alpha)$\n",
    "    &nbsp;\n",
    "\n",
    "    with $\\alpha \\geq 0$ chosen according to the heuristics:\n",
    "    - small $\\alpha$: processing a lot of counts\n",
    "    - great $\\alpha$: processing few counts\n",
    "\n",
    "2. Solving the Univariate variational problem with Chambolle-Pock algorithm\n",
    "\n",
    "    $$ \\widehat{\\boldsymbol{\\mathsf{R}}}^{\\mathsf{U}} = \\underset{\\boldsymbol{\\mathsf{R}} \\in \\mathbb{R}_+^{ T}}{\\mathrm{argmin}} \\,\\mathrm{D}_{\\mathsf{KL}}(\\boldsymbol{\\mathsf{Z}}^{\\mathsf{denoised}} | \\boldsymbol{\\mathsf{p}}) + \\lambda_{\\mathsf{L}}^{\\mathsf{U}} \\lVert \\mathsf{L} \\boldsymbol{\\mathsf{R}}\\rVert_1 , \\quad \\mathsf{p}_t = \\mathsf{R}_t \\Phi^{\\boldsymbol{\\mathsf{Z}}}_t$$\n",
    "\n",
    "with $\\mathsf{L}$ the discrete second-order differential operator."
   ],
   "metadata": {
    "collapsed": false
   }
  },
  {
   "cell_type": "code",
   "execution_count": null,
   "outputs": [],
   "source": [
    "# Choice of denoising parameter alpha and regularization parameter muR\n",
    "alpha = 0.1\n",
    "lambdaU_L = 50\n",
    "\n",
    "# Denoising with sliding median then solving with Chambolle-Pock algorithm\n",
    "Z_denoised = sliding_median(ZData, alpha)\n",
    "Rt_U, options_U = Rt_U(Z_denoised, lambdaU_L, options=options)\n",
    "\n",
    "# Display results\n",
    "display_REstim(Rt_U, options_U);"
   ],
   "metadata": {
    "collapsed": false,
    "ExecuteTime": {
     "start_time": "2024-03-25T09:57:49.686024Z",
     "end_time": "2024-03-25T09:57:54.605412Z"
    }
   }
  },
  {
   "cell_type": "markdown",
   "source": [
    "### Univariate Outliers estimation (only in [5])\n",
    "\n",
    "Solving the following Univariate variational estimator with temporal regularization with misreported counts O explicit modelisation, using Chambolle-Pock algorithm\n",
    "\n",
    "$$\\widehat{\\boldsymbol{\\mathsf{R}}}^{\\mathsf{U-O}}, \\widehat{\\boldsymbol{\\mathsf{O}}}^{\\mathsf{U-O}} = \\, \\underset{\\boldsymbol{\\mathsf{R}} \\in \\mathbb{R}_+^{ T}, \\boldsymbol{\\mathsf{O}} \\in \\mathbb{R}^{ T}}{\\mathrm{argmin}} \\,\\mathrm{D}_{\\mathsf{KL}}(\\boldsymbol{\\mathsf{Z}} | \\boldsymbol{\\mathsf{p}}) + \\lambda_{\\mathsf{L}}^{\\mathsf{U}} \\lVert \\mathsf{L} \\boldsymbol{\\mathsf{R}}\\rVert_1 + \\lambda_\\mathsf{O}^\\mathsf{U} \\lVert \\mathsf{O}\\rVert_1 , \\quad \\mathsf{p}_t = \\mathsf{R}_t \\Phi^{\\boldsymbol{\\mathsf{Z}}}_t$$\n",
    "\n",
    "* A greater $\\lambda_\\mathsf{L}^\\mathsf{U}$ means less slope ruptures\n",
    "* A greater $\\lambda_\\mathsf{O}^\\mathsf{U}$ means less misreported counts to be estimated\n",
    "\n",
    "For more examples, see [include/settings.RegularizationSettings](include/settings.py)"
   ],
   "metadata": {
    "collapsed": false
   }
  },
  {
   "cell_type": "code",
   "execution_count": null,
   "outputs": [],
   "source": [
    "# Choice of denoising parameter alpha and regularization parameter muR\n",
    "lambdaU_L = 3.5\n",
    "lambdaU_O = 0.03\n",
    "\n",
    "# Solving with Chambolle-Pock algorithm\n",
    "Rt_UO, Ot_UO, options_UO = Rt_U_O(ZData, lambdaU_L, lambdaU_O, options=options)\n",
    "\n",
    "# Display results\n",
    "display_REstim(Rt_UO, options=options_UO);"
   ],
   "metadata": {
    "collapsed": false,
    "ExecuteTime": {
     "start_time": "2024-03-25T09:57:54.606414Z",
     "end_time": "2024-03-25T09:58:31.072879Z"
    }
   }
  },
  {
   "cell_type": "markdown",
   "source": [
    "### Recap for univariate estimators"
   ],
   "metadata": {
    "collapsed": false
   }
  },
  {
   "cell_type": "code",
   "execution_count": null,
   "outputs": [],
   "source": [
    "# Gather all methods\n",
    "REstimations = {'MLE': Rt_MLE, 'Gamma': Rt_Gamma, 'U': Rt_U, 'U-O': Rt_UO}\n",
    "optionsAll = {'MLE': options_MLE, 'Gamma': options_Gamma, 'U': options_U, 'U-O': options_UO}\n",
    "\n",
    "# Display comparison between methods\n",
    "display_REstim(REstimations, optionsAll, comparison=True);"
   ],
   "metadata": {
    "collapsed": false,
    "ExecuteTime": {
     "start_time": "2024-03-25T09:58:31.073877Z",
     "end_time": "2024-03-25T09:58:31.435656Z"
    }
   }
  },
  {
   "cell_type": "markdown",
   "source": [
    "## Multivariate reproduction number estimations on real-world infection counts\n",
    "\n",
    "### Data fetching\n",
    "\n",
    "Infection counts are retrieved for each of the 96 metropolitan french county (*départements*) in `ZData_multi` $\\in \\mathbb{N}^{96\\times T}$, and $T$ days chosen between `firstDay` and `lastDay`"
   ],
   "metadata": {
    "collapsed": false
   }
  },
  {
   "cell_type": "code",
   "execution_count": null,
   "outputs": [],
   "source": [
    "# Choice of dates\n",
    "firstDay = '2021-11-03'\n",
    "lastDay = '2022-03-04'\n",
    "\n",
    "# Retrieve associated infection counts by county\n",
    "ZData_multi, optionsSpat = get_real_counts_by_county(firstDay, lastDay)"
   ],
   "metadata": {
    "collapsed": false,
    "ExecuteTime": {
     "start_time": "2024-03-25T09:58:31.435656Z",
     "end_time": "2024-03-25T09:58:31.773741Z"
    }
   }
  },
  {
   "cell_type": "markdown",
   "source": [
    "### Multivariate estimation\n",
    "    $$ \\widehat{\\boldsymbol{\\mathsf{R}}}^{\\mathsf{U}} = \\underset{\\boldsymbol{\\mathsf{R}} \\in \\mathbb{R}_+^{C\\times T}}{\\mathrm{argmin}} \\,\\mathrm{D}_{\\mathsf{KL}}(\\boldsymbol{\\mathsf{Z}} | \\boldsymbol{\\mathsf{p}}) + \\lambda_{\\mathsf{L}}^{\\mathsf{M}} \\lVert \\mathsf{L} \\boldsymbol{\\mathsf{R}}\\rVert_1 + \\lambda_{\\mathsf{G}}^{\\mathsf{M}} \\lVert \\mathsf{G} \\boldsymbol{\\mathsf{R}}\\rVert_1, \\quad \\mathsf{p}_t = \\mathsf{R}_t \\Phi^{\\boldsymbol{\\mathsf{Z}}}_t$$\n",
    "\n",
    "where $\\mathsf{L}$ computes the time second-order derivative independently on each time series, $\\mathsf{G}$ encodes the connectivity between counties (here, sharing terrestrial borders counties).\n",
    "\n",
    "$\\lambda_\\mathsf{L}^\\mathsf{M} > 0$ (resp. $\\lambda_\\mathsf{G}^\\mathsf{M} > 0$) controls the level of regularity in time (resp. in space) enforced."
   ],
   "metadata": {
    "collapsed": false
   }
  },
  {
   "cell_type": "code",
   "execution_count": null,
   "outputs": [],
   "source": [
    "# Choice of regularization parameters\n",
    "lambdaM_L = 50  # temporal regularization\n",
    "lambdaM_G = 0.005  # spatial regularization\n",
    "\n",
    "# This computation takes up to 18 minutes ! -------------------------\n",
    "REstimate, options_M = Rt_M(ZData_multi, lambdaM_L, lambdaM_G, optionsSpat)"
   ],
   "metadata": {
    "collapsed": false,
    "ExecuteTime": {
     "start_time": "2024-03-25T09:58:31.773741Z",
     "end_time": "2024-03-25T10:17:16.176940Z"
    }
   }
  },
  {
   "cell_type": "code",
   "execution_count": null,
   "outputs": [],
   "source": [
    "# Displaying selected counties by using their \"code\" (see https://fr.wikipedia.org/wiki/Num%C3%A9rotation_des_d%C3%A9partements_fran%C3%A7ais).\n",
    "selectedCounties = ['2A', '2B',  '23', '75']\n",
    "display_REstim_by_dpt(REstimate, selectedCounties, options_M);"
   ],
   "metadata": {
    "collapsed": false
   }
  },
  {
   "cell_type": "code",
   "execution_count": null,
   "outputs": [],
   "source": [
    "# # For debug usage only --------------------\n",
    "# from scipy.io import loadmat\n",
    "# # savemat('test_demo.mat', {'REstimate': REstimate,\n",
    "# #                           'datesUpdated': datesUpdated,\n",
    "# #                           'dataCrop': dataCrop,\n",
    "# #                           'counties': optionsSpat['counties']})\n",
    "#\n",
    "# file = loadmat('test_demo.mat', squeeze_me=True)\n",
    "# REstimate = file['REstimate']\n",
    "# datesUpdated = file['datesUpdated']\n",
    "# dataCrop = file['dataCrop']\n",
    "# counties = file['counties'] #  optionsSpat['counties']\n",
    "# options_M = {'dates': datesUpdated, 'data': dataCrop, 'counties': counties}\n",
    "#\n",
    "# selectedCounties = ['2A', '2B',  '23', '75']\n",
    "# display_REstim_by_dpt(REstimate, selectedCounties, options_M);"
   ],
   "metadata": {
    "collapsed": false,
    "ExecuteTime": {
     "start_time": "2024-03-22T17:07:04.341193Z",
     "end_time": "2024-03-22T17:07:04.710465Z"
    }
   }
  }
 ],
 "metadata": {
  "kernelspec": {
   "display_name": "Python 3 (ipykernel)",
   "language": "python",
   "name": "python3"
  },
  "language_info": {
   "codemirror_mode": {
    "name": "ipython",
    "version": 3
   },
   "file_extension": ".py",
   "mimetype": "text/x-python",
   "name": "python",
   "nbconvert_exporter": "python",
   "pygments_lexer": "ipython3",
   "version": "3.9.13"
  }
 },
 "nbformat": 4,
 "nbformat_minor": 1
}
