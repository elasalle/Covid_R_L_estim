{
 "cells": [
  {
   "cell_type": "code",
   "execution_count": null,
   "outputs": [],
   "source": [
    "from display.display_figures import display_data, display_REstim, display_REstim_by_dpt\n",
    "\n",
    "# For data reading purposes\n",
    "from include.load_data.get_counts import get_real_counts_by_county\n",
    "from include.load_data import get_counts\n",
    "\n",
    "# For independent denoising\n",
    "from include.optim_tools.sliding_median import sliding_median\n",
    "\n",
    "# For Rt estimation\n",
    "from include.estim.Rt_MLE import Rt_MLE\n",
    "from include.estim.Rt_Gamma import Rt_Gamma\n",
    "from include.estim.Rt_Univariate import Rt_U\n",
    "from include.estim.Rt_UnivariateOutliers import Rt_U_O\n",
    "from include.estim.Rt_Multivariate import Rt_M"
   ],
   "metadata": {
    "collapsed": false,
    "ExecuteTime": {
     "start_time": "2024-03-22T18:21:01.969943Z",
     "end_time": "2024-03-22T18:21:01.998329Z"
    }
   }
  },
  {
   "cell_type": "markdown",
   "source": [
    "## Univariate reproduction number estimations on real-world infection counts\n",
    "### Data fetching\n",
    "\n",
    "dataBasis choice between `SPF` (Santé Publique France) and `JHU` (Johns Hopkins University)\n",
    "&nbsp;\n",
    "country choice should only be\n",
    "   * `France` for `SPF`\n",
    "   * any country available at https://coronavirus.jhu.edu/data for `JHU`"
   ],
   "metadata": {
    "collapsed": false
   }
  },
  {
   "cell_type": "code",
   "execution_count": null,
   "outputs": [],
   "source": [
    "# Choice of country, dates, regularization parameters & computation\n",
    "dataBasis = 'JHU'\n",
    "country = 'France'\n",
    "firstDay = '2021-11-01'  # first day of the chosen time period\n",
    "lastDay = '2022-08-03'  # last day of the chosen time period\n",
    "\n",
    "# Fetch data and associated dates\n",
    "ZData, options = get_counts.get_real_counts(country, firstDay, lastDay, dataBasis)\n",
    "\n",
    "display_data(ZData, options=options);"
   ],
   "metadata": {
    "collapsed": false,
    "ExecuteTime": {
     "start_time": "2024-03-22T18:21:01.977469Z",
     "end_time": "2024-03-22T18:21:02.257689Z"
    }
   }
  },
  {
   "cell_type": "markdown",
   "source": [
    "### Maximum Likelihood Estimator\n",
    "$$\\mathsf{R}^{\\mathsf{MLE}} = \\frac{ \\mathsf{Z}}{\\mathsf{Z}\\Phi}$$"
   ],
   "metadata": {
    "collapsed": false
   }
  },
  {
   "cell_type": "code",
   "execution_count": null,
   "outputs": [],
   "source": [
    "# Analytic computation\n",
    "Rt_MLE, options_MLE = Rt_MLE(ZData, options=options)\n",
    "\n",
    "# Display figures\n",
    "display_REstim(Rt_MLE, options_MLE);"
   ],
   "metadata": {
    "collapsed": false,
    "ExecuteTime": {
     "start_time": "2024-03-22T18:21:02.258687Z",
     "end_time": "2024-03-22T18:21:02.607436Z"
    }
   }
  },
  {
   "cell_type": "markdown",
   "source": [
    "### Bayesian Estimator\n",
    "\n",
    "Following the article \"A New Framework and Software to Estimate Time-Varying Reproduction Numbers During Epidemics\", Cori et al., 2013, Am. Journal of Epidemiology, R estimation is made using Bayesian framework resulting in:\n",
    "\n",
    "$$\\mathsf{R}_t^\\Gamma = \\frac{1 + \\sum_{s=t-\\tau}^{t}\\mathsf{Z}_s}{5 + \\sum_{s=t-\\tau}^{t}(\\Phi\\star\\mathsf{Z})_s}$$\n",
    "\n",
    "Here $\\tau = 15$"
   ],
   "metadata": {
    "collapsed": false
   }
  },
  {
   "cell_type": "code",
   "execution_count": null,
   "outputs": [],
   "source": [
    "# Choice of the hyperparameter\n",
    "tau = 15\n",
    "\n",
    "# Analytic computation\n",
    "Rt_Gamma, options_Gamma = Rt_Gamma(ZData, tau=tau, options=options)\n",
    "\n",
    "# Display results\n",
    "display_REstim(Rt_Gamma, options_Gamma);"
   ],
   "metadata": {
    "collapsed": false,
    "ExecuteTime": {
     "start_time": "2024-03-22T18:21:02.570398Z",
     "end_time": "2024-03-22T18:21:02.931608Z"
    }
   }
  },
  {
   "cell_type": "markdown",
   "source": [
    "### Univariate estimation\n",
    "\n",
    "1. $\\mathsf{Z}^{\\mathsf{denoised}} =$ `sliding_median`$(\\mathsf{Z}, \\alpha)$\n",
    "    &nbsp;\n",
    "\n",
    "    with sliding median that can be tuned using $\\alpha \\geq 0$:\n",
    "    - small $\\alpha$ : lot of data denoised\n",
    "    - great $\\alpha$ : few data denoised\n",
    "\n",
    "2. Solving the Penalized Likelihood functional with Chambolle-Pock algorithm\n",
    "\n",
    "    $$ \\boldsymbol{\\mathsf{R}}^{\\mathsf{U}} = \\underset{\\boldsymbol{\\mathsf{R}} \\in \\mathbb{R}_+^{ T}}{\\mathrm{argmin}} \\,\\mathrm{D}_{\\mathsf{KL}}(\\boldsymbol{\\mathsf{Z}}^{\\mathsf{denoised}} | \\boldsymbol{\\mathsf{p}}) + \\lambda_{\\mathsf{L}}^{\\mathsf{U}} \\lVert \\mathsf{L} \\boldsymbol{\\mathsf{R}}\\rVert_1 , \\quad \\mathsf{p}_t = \\mathsf{R}_t \\Phi^{\\boldsymbol{\\mathsf{Z}}}_t$$"
   ],
   "metadata": {
    "collapsed": false
   }
  },
  {
   "cell_type": "code",
   "execution_count": null,
   "outputs": [],
   "source": [
    "# Choice of denoising parameter alpha and regularization parameter muR\n",
    "alpha = 0.1\n",
    "muR = 50\n",
    "\n",
    "# Denoising with sliding median then solving with Chambolle-Pock algorithm\n",
    "Z_denoised = sliding_median(ZData, alpha)\n",
    "Rt_U, options_U = Rt_U(Z_denoised, muR=muR, options=options)\n",
    "\n",
    "# Display results\n",
    "display_REstim(Rt_U, options_U);"
   ],
   "metadata": {
    "collapsed": false,
    "ExecuteTime": {
     "start_time": "2024-03-22T18:21:02.896653Z",
     "end_time": "2024-03-22T18:21:08.010722Z"
    }
   }
  },
  {
   "cell_type": "markdown",
   "source": [
    "### Univariate Outliers estimation\n",
    "\n",
    "Solving the following Univariate variational estimator with temporal regularization with misreported counts O explicit modelisation, using Chambolle-Pock algorithm\n",
    "\n",
    "$$\\boldsymbol{\\mathsf{R}}^{\\mathsf{U-O}}, \\boldsymbol{\\mathsf{O}}^{\\mathsf{U-O}} = \\, \\underset{\\boldsymbol{\\mathsf{R}} \\in \\mathbb{R}_+^{ T}, \\boldsymbol{\\mathsf{O}} \\in \\mathbb{R}^{ T}}{\\mathrm{argmin}} \\,\\mathrm{D}_{\\mathsf{KL}}(\\boldsymbol{\\mathsf{Z}} | \\boldsymbol{\\mathsf{p}}) + \\lambda_{\\mathsf{L}}^{\\mathsf{U}} \\lVert \\mathsf{L} \\boldsymbol{\\mathsf{R}}\\rVert_1 + \\lambda_\\mathsf{O}^\\mathsf{U} \\lVert \\mathsf{O}\\rVert_1 , \\quad \\mathsf{p}_t = \\mathsf{R}_t \\Phi^{\\boldsymbol{\\mathsf{Z}}}_t$$\n",
    "\n",
    "* A greater $\\lambda_\\mathsf{L}^\\mathsf{U}$ means less slope ruptures\n",
    "* A greater $\\lambda_\\mathsf{O}^\\mathsf{U}$ means less denoising\n",
    "\n",
    "For more examples, see [include/settings.RegularizationSettings](include/settings.py)"
   ],
   "metadata": {
    "collapsed": false
   }
  },
  {
   "cell_type": "code",
   "execution_count": null,
   "outputs": [],
   "source": [
    "# Choice of denoising parameter alpha and regularization parameter muR\n",
    "lambdaR = 3.5\n",
    "lambdaO = 0.03\n",
    "\n",
    "# Solving with Chambolle-Pock algorithm\n",
    "Rt_UO, Ot_UO, options_UO = Rt_U_O(ZData, lambdaR=lambdaR, lambdaO=lambdaO, options=options)\n",
    "\n",
    "# Display results\n",
    "display_REstim(Rt_UO, options=options_UO);"
   ],
   "metadata": {
    "collapsed": false,
    "ExecuteTime": {
     "start_time": "2024-03-22T13:31:00.432738Z",
     "end_time": "2024-03-22T13:31:40.289617Z"
    }
   }
  },
  {
   "cell_type": "code",
   "execution_count": null,
   "outputs": [],
   "source": [
    "# Gather all methods\n",
    "REstimations = {'MLE': Rt_MLE, 'Gamma': Rt_Gamma, 'U': Rt_U, 'U-O': Rt_UO}\n",
    "optionsAll = {'MLE': options_MLE, 'Gamma': options_Gamma, 'U': options_U, 'U-O': options_UO}\n",
    "\n",
    "# Display comparison between methods\n",
    "display_REstim(REstimations, optionsAll, comparison=True);"
   ],
   "metadata": {
    "collapsed": false,
    "ExecuteTime": {
     "start_time": "2024-03-22T13:31:40.291227Z",
     "end_time": "2024-03-22T13:31:43.451405Z"
    }
   }
  },
  {
   "cell_type": "markdown",
   "source": [
    "## Multivariate reproduction number estimations on real-world infection counts"
   ],
   "metadata": {
    "collapsed": false
   }
  },
  {
   "cell_type": "code",
   "execution_count": null,
   "outputs": [],
   "source": [
    "# Choice of dates\n",
    "firstDay = '2021-11-03'\n",
    "lastDay = '2022-03-04'\n",
    "\n",
    "# Retrieve associated infection counts by county\n",
    "ZData_multi, optionsSpat = get_real_counts_by_county(firstDay, lastDay)"
   ],
   "metadata": {
    "collapsed": false,
    "ExecuteTime": {
     "start_time": "2024-03-22T13:31:43.453274Z",
     "end_time": "2024-03-22T13:31:43.842329Z"
    }
   }
  },
  {
   "cell_type": "code",
   "execution_count": null,
   "outputs": [],
   "source": [
    "# Choice of regularization parameters\n",
    "lambdaR = 50  # temporal regularization\n",
    "lambdaS = 0.005  # spatial regularization"
   ],
   "metadata": {
    "collapsed": false,
    "ExecuteTime": {
     "start_time": "2024-03-22T13:31:43.844320Z",
     "end_time": "2024-03-22T13:49:46.161118Z"
    }
   }
  },
  {
   "cell_type": "code",
   "execution_count": null,
   "outputs": [],
   "source": [
    "# This computation takes up to 18 minutes ! -------------------------\n",
    "REstimate, options_M = Rt_M(ZData_multi, lambdaR, lambdaS, optionsSpat)"
   ],
   "metadata": {
    "collapsed": false
   }
  },
  {
   "cell_type": "code",
   "execution_count": null,
   "outputs": [],
   "source": [
    "selectedCounties = ['2A', '2B',  '23', '75']\n",
    "display_REstim_by_dpt(REstimate, selectedCounties, options_M);"
   ],
   "metadata": {
    "collapsed": false
   }
  },
  {
   "cell_type": "code",
   "execution_count": null,
   "outputs": [],
   "source": [
    "# # For debug usage only --------------------\n",
    "# from scipy.io import loadmat\n",
    "# # savemat('test_demo.mat', {'REstimate': REstimate,\n",
    "# #                           'datesUpdated': datesUpdated,\n",
    "# #                           'dataCrop': dataCrop,\n",
    "# #                           'counties': optionsSpat['counties']})\n",
    "#\n",
    "# file = loadmat('test_demo.mat', squeeze_me=True)\n",
    "# REstimate = file['REstimate']\n",
    "# datesUpdated = file['datesUpdated']\n",
    "# dataCrop = file['dataCrop']\n",
    "# counties = file['counties'] #  optionsSpat['counties']\n",
    "# options_M = {'dates': datesUpdated, 'data': dataCrop, 'counties': counties}\n",
    "#\n",
    "# selectedCounties = ['2A', '2B',  '23', '75']\n",
    "# display_REstim_by_dpt(REstimate, selectedCounties, options_M);"
   ],
   "metadata": {
    "collapsed": false,
    "ExecuteTime": {
     "start_time": "2024-03-22T17:07:04.341193Z",
     "end_time": "2024-03-22T17:07:04.710465Z"
    }
   }
  }
 ],
 "metadata": {
  "kernelspec": {
   "display_name": "Python 3 (ipykernel)",
   "language": "python",
   "name": "python3"
  },
  "language_info": {
   "codemirror_mode": {
    "name": "ipython",
    "version": 3
   },
   "file_extension": ".py",
   "mimetype": "text/x-python",
   "name": "python",
   "nbconvert_exporter": "python",
   "pygments_lexer": "ipython3",
   "version": "3.9.13"
  }
 },
 "nbformat": 4,
 "nbformat_minor": 1
}
