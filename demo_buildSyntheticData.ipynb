{
 "cells": [
  {
   "cell_type": "code",
   "execution_count": null,
   "metadata": {
    "collapsed": true,
    "ExecuteTime": {
     "start_time": "2024-03-19T15:48:42.913355Z",
     "end_time": "2024-03-19T15:48:43.881147Z"
    }
   },
   "outputs": [],
   "source": [
    "from display import display_figures\n",
    "from display.display_figures_by_county import display_connect_structure, display_spatCorrLevels, display_spatCorr_onR\n",
    "\n",
    "from include.build_synth import buildData_fromRO as build\n",
    "from include.build_synth import load_RO as load\n",
    "\n",
    "from include.build_synth.Tikhonov_method import Tikhonov_spat_corr\n",
    "from include.build_synth.compute_spatCorrLevels import compute_spatCorrLevels"
   ]
  },
  {
   "cell_type": "markdown",
   "source": [
    "### Choice of Rref and Oref (univariate)\n",
    "Here is the list of the configurations available in data/Synthetic/Univariate, giving ground truths for R and O for each.\n",
    "* Configuration `'I'`&ensp;&ensp;&ensp;: faster dynamic changes and a lot of outliers\n",
    "* Configuration `'II'`&ensp;&ensp;: slower dynamic changes and fewer outliers\n",
    "* Configuration `'III'`&ensp;: faster dynamic changes and fewer outliers\n",
    "* Configuration `'IV'`&ensp;&ensp;: slower dynamic changes and a lot of outliers"
   ],
   "metadata": {
    "collapsed": false
   }
  },
  {
   "cell_type": "code",
   "execution_count": null,
   "outputs": [],
   "source": [
    "# Choice of configuration\n",
    "configuration = 'I'\n",
    "\n",
    "RTrue, OTrue = load.loadROconfig(configuration)"
   ],
   "metadata": {
    "collapsed": false,
    "ExecuteTime": {
     "start_time": "2024-03-19T15:48:43.881229Z",
     "end_time": "2024-03-19T15:48:43.896212Z"
    }
   }
  },
  {
   "cell_type": "markdown",
   "source": [
    "### Building synthetic data following Cori's extended model\n",
    "Given `firstCases` initial number of cases for day 1, loaded $\\mathsf{R}^{\\mathsf{true}}$ and $\\mathsf{O}^{\\mathsf{true}}$, build synthetic dates `datesBuilt` and data $\\mathsf{Z}$ (`ZDataBuilt`) drawn following Cori's extended model:\n",
    "\n",
    "For each day $t$, $\\mathsf{Z}_t$ is drawn according to a Poisson law of parameter $\\mathsf{R}^{\\mathsf{true}}_t.(\\Phi\\star\\mathsf{Z})_t + \\mathsf{O}^{\\mathsf{true}}_t$ where $\\Phi$ is the contagiosity."
   ],
   "metadata": {
    "collapsed": false
   }
  },
  {
   "cell_type": "code",
   "execution_count": null,
   "outputs": [],
   "source": [
    "# Choice of number of first cases on day one\n",
    "firstCases1D = 2000\n",
    "\n",
    "# Build synthetic data based on RTrue, OTrue and chosen firstCases\n",
    "datesBuilt, ZDataBuilt = build.buildData_anyRO(RTrue, OTrue, firstCases1D)\n",
    "\n",
    "# Display data built\n",
    "fig, axes, formattedDatesBuilt = display_figures.display_dataBuilt(datesBuilt, ZDataBuilt, RTrue, OTrue)"
   ],
   "metadata": {
    "collapsed": false,
    "ExecuteTime": {
     "start_time": "2024-03-19T15:48:43.898206Z",
     "end_time": "2024-03-19T15:48:48.892211Z"
    }
   }
  },
  {
   "cell_type": "markdown",
   "source": [
    "### Choice of Rref and Oref (multivariate)\n",
    "Here is the list of the configurations available in data/Synthetic/Multivariate, giving ground truths for R and O for each.\n",
    "* `connectStruct = 'Line'` connectivity structure\n",
    "* `connectStruct = 'Hub'` connectivity structure\n",
    "\n",
    "each containing configurations associated to various inter-county correlated ground truths $\\boldsymbol{\\mathsf{R}}^\\star$. Given $\\boldsymbol{\\mathsf{R}}^\\dagger$ found in `Config_delta_0'`&ensp; they are computed via a Tikhonov regularization as:\n",
    "\n",
    "$$\\boldsymbol{\\mathsf{R}}^\\star (\\boldsymbol{\\mathsf{R}}^\\dagger; \\delta) = \\underset{\\boldsymbol{\\mathsf{R}} \\in \\mathbb{R}^{C\\times T}}{\\mathrm{argmin}} \\, \\lVert \\boldsymbol{\\mathsf{R}}^\\dagger - \\boldsymbol{\\mathsf{R}}\\rVert_2^2 +  \\delta  \\lVert \\mathsf{G} \\boldsymbol{\\mathsf{R}}\\rVert_2^2$$\n",
    "\n",
    "and storaged in `Config_delta_I'`&ensp; `Config_delta_II'`&ensp; `Config_delta_III'`&ensp; `Config_delta_IV'`&ensp; respectively corresponding to $\\delta_{\\mathtt{I}}$, $\\delta_{\\mathtt{II}}$, $\\delta_{\\mathtt{III}}$, $\\delta_{\\mathtt{IV}}$ defined in the associated article. Each of their value can be found in their associated `.mat` file, using the key `deltaValue`."
   ],
   "metadata": {
    "collapsed": false
   }
  },
  {
   "cell_type": "code",
   "execution_count": null,
   "outputs": [],
   "source": [
    "# Choice of connectivity structure and spatial correlation level (configMulti) for multivariate synthetic infection counts\n",
    "connectStruct = 'Line'\n",
    "\n",
    "display_connect_structure(connectStruct)"
   ],
   "metadata": {
    "collapsed": false,
    "ExecuteTime": {
     "start_time": "2024-03-19T15:48:48.894206Z",
     "end_time": "2024-03-19T15:48:49.197678Z"
    }
   }
  },
  {
   "cell_type": "code",
   "execution_count": null,
   "outputs": [],
   "source": [
    "# Adding inter-county correlations to initial realistic univariate R crafted on each county.\n",
    "R_by_county, O_by_county, firstCasesExample, B_matrix = load.loadROconfigMulti(connectStruct, '0')\n",
    "\n",
    "# Inter-county correlation levels computation\n",
    "display_spatCorrLevels(R_by_county, B_matrix, fileSuffix=connectStruct)"
   ],
   "metadata": {
    "collapsed": false,
    "ExecuteTime": {
     "start_time": "2024-03-19T15:48:48.957702Z",
     "end_time": "2024-03-19T15:48:51.604476Z"
    }
   }
  },
  {
   "cell_type": "code",
   "execution_count": null,
   "outputs": [],
   "source": [
    "# Visualization of inter-county correlation levels\n",
    "delta_I, delta_II, delta_III, delta_IV = compute_spatCorrLevels(R_by_county, B_matrix, fileSuffix=connectStruct)\n",
    "deltaList = {'0': 0,\n",
    "             'I': delta_I,\n",
    "             'II': delta_II,\n",
    "             'III': delta_III,\n",
    "             'IV': delta_IV}\n",
    "\n",
    "display_spatCorr_onR(R_by_county, B_matrix, deltaList)"
   ],
   "metadata": {
    "collapsed": false,
    "ExecuteTime": {
     "start_time": "2024-03-19T15:48:51.607462Z",
     "end_time": "2024-03-19T15:48:52.226484Z"
    }
   }
  },
  {
   "cell_type": "code",
   "execution_count": null,
   "outputs": [],
   "source": [
    "# Build synthetic infection counts based on RTrue, OTrue and chosen firstCases for ONE CONFIGURATION\n",
    "configMulti = 'I'\n",
    "R_spat_corr = Tikhonov_spat_corr(R_by_county, B_matrix, delta=deltaList[configMulti])\n",
    "\n",
    "firstCasesMulti = firstCasesExample  # can be modified if needed\n",
    "datesBuilt, ZDataBuilt = build.buildDataMulti_anyRO(R_spat_corr, O_by_county, firstCasesMulti)"
   ],
   "metadata": {
    "collapsed": false,
    "ExecuteTime": {
     "start_time": "2024-03-19T15:48:51.997294Z",
     "end_time": "2024-03-19T15:48:52.257518Z"
    }
   }
  },
  {
   "cell_type": "code",
   "execution_count": null,
   "outputs": [],
   "source": [
    "# Display synthetic infection counts crafted with previous configuration -------------- (WIP)\n",
    "# fig, axes, formattedDatesBuilt = display_figures.display_dataBuilt(datesBuilt, ZDataBuilt, RTrue, OTrue)"
   ],
   "metadata": {
    "collapsed": false,
    "ExecuteTime": {
     "start_time": "2024-03-19T15:48:52.027093Z",
     "end_time": "2024-03-19T15:48:52.288470Z"
    }
   }
  }
 ],
 "metadata": {
  "kernelspec": {
   "display_name": "Python 3",
   "language": "python",
   "name": "python3"
  },
  "language_info": {
   "codemirror_mode": {
    "name": "ipython",
    "version": 2
   },
   "file_extension": ".py",
   "mimetype": "text/x-python",
   "name": "python",
   "nbconvert_exporter": "python",
   "pygments_lexer": "ipython2",
   "version": "2.7.6"
  }
 },
 "nbformat": 4,
 "nbformat_minor": 0
}
