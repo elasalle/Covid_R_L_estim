{
 "cells": [
  {
   "cell_type": "code",
   "execution_count": null,
   "metadata": {
    "collapsed": true,
    "ExecuteTime": {
     "start_time": "2024-03-21T17:24:45.585776Z",
     "end_time": "2024-03-21T17:24:47.217982Z"
    }
   },
   "outputs": [],
   "source": [
    "from display import display_figures\n",
    "from display.display_figures_by_county import display_connect_structure, display_spatCorrLevels, display_spatCorr_onR\n",
    "\n",
    "from include.build_synth import buildData_fromRO as build\n",
    "from include.build_synth import load_RO as load\n",
    "\n",
    "from include.build_synth.Tikhonov_method import Tikhonov_spat_corr\n",
    "from include.build_synth.compute_spatCorrLevels import compute_spatCorrLevels"
   ]
  },
  {
   "cell_type": "markdown",
   "source": [
    "## Univariate synthetic infection counts\n",
    "\n",
    "### Load ground truth univariate reproduction number $\\boldsymbol{\\mathsf{R}}^\\dagger$ and reporting errors $\\boldsymbol{\\mathsf{O}}^\\dagger$\n",
    "Here is the list of the configurations available in [data/Synthetic/Univariate](data/Synthetic/Univariate), giving ground truths for R and O for each.\n",
    "* Configuration `'I'`&ensp;&ensp;&ensp;: faster dynamic changes and a lot of outliers\n",
    "* Configuration `'II'`&ensp;&ensp;: slower dynamic changes and fewer outliers\n",
    "* Configuration `'III'`&ensp;: faster dynamic changes and fewer outliers\n",
    "* Configuration `'IV'`&ensp;&ensp;: slower dynamic changes and a lot of outliers"
   ],
   "metadata": {
    "collapsed": false
   }
  },
  {
   "cell_type": "code",
   "execution_count": null,
   "outputs": [],
   "source": [
    "# Choice of configuration\n",
    "configuration = 'I'\n",
    "\n",
    "RTrue, OTrue = load.loadROconfig(configuration)"
   ],
   "metadata": {
    "collapsed": false,
    "ExecuteTime": {
     "start_time": "2024-03-21T17:24:47.217982Z",
     "end_time": "2024-03-21T17:24:47.235811Z"
    }
   }
  },
  {
   "cell_type": "markdown",
   "source": [
    "### Building synthetic data following Cori's extended model\n",
    "Given `firstCases` initial number of cases for day 1, loaded $\\mathsf{R}^{\\mathsf{true}}$ and $\\mathsf{O}^{\\mathsf{true}}$, build synthetic dates `datesBuilt` and data $\\mathsf{Z}$ (`ZDataBuilt`) drawn following Cori's extended model:\n",
    "\n",
    "For each day $t$, $\\mathsf{Z}_t$ is drawn according to a Poisson law of parameter $\\mathsf{R}^{\\mathsf{true}}_t(\\sum_{s=1}^t \\Phi_s\\mathsf{Z}_{t-s}) + \\mathsf{O}^{\\mathsf{true}}_t$ where $\\Phi$ is the serial interval function."
   ],
   "metadata": {
    "collapsed": false
   }
  },
  {
   "cell_type": "code",
   "execution_count": null,
   "outputs": [],
   "source": [
    "# Choice of number of first cases on day one\n",
    "firstCases1D = 2000\n",
    "\n",
    "# Build synthetic data based on RTrue, OTrue and chosen firstCases\n",
    "datesBuilt, ZDataBuilt = build.buildData_anyRO(RTrue, OTrue, firstCases1D)\n",
    "\n",
    "# Display data built\n",
    "fig, axes, formattedDatesBuilt = display_figures.display_dataBuilt(datesBuilt, ZDataBuilt, RTrue, OTrue)"
   ],
   "metadata": {
    "collapsed": false,
    "ExecuteTime": {
     "start_time": "2024-03-21T17:24:47.251445Z",
     "end_time": "2024-03-21T17:24:51.532249Z"
    }
   }
  },
  {
   "cell_type": "markdown",
   "source": [
    "## Multivariate synthetic infection counts\n",
    "\n",
    "### Load synthetic reproduction number $\\boldsymbol{\\mathsf{R}}^\\dagger$\n",
    "Here is the list of the configurations available in data/Synthetic/Multivariate, giving ground truth for R and O for each.\n",
    "    - `connectStruct = 'Line'` connectivity structure\n",
    "    - `connectStruct = 'Hub'` connectivity structure\n",
    "each containing configurations associated to various inter-county correlated ground truth $\\boldsymbol{\\mathsf{R}}^\\star$."
   ],
   "metadata": {
    "collapsed": false
   }
  },
  {
   "cell_type": "code",
   "execution_count": null,
   "outputs": [],
   "source": [
    "display_connect_structure('Line')\n",
    "display_connect_structure('Hub')"
   ],
   "metadata": {
    "collapsed": false,
    "ExecuteTime": {
     "start_time": "2024-03-21T17:24:51.544329Z",
     "end_time": "2024-03-21T17:24:51.696967Z"
    }
   }
  },
  {
   "cell_type": "code",
   "execution_count": null,
   "outputs": [],
   "source": [
    "# Choice of connectivity structure and spatial correlation level (configMulti) for multivariate synthetic infection counts\n",
    "connectStruct = 'Line'"
   ],
   "metadata": {
    "collapsed": false,
    "ExecuteTime": {
     "start_time": "2024-03-21T17:24:51.663647Z",
     "end_time": "2024-03-21T17:24:51.696967Z"
    }
   }
  },
  {
   "cell_type": "markdown",
   "source": [
    "### Ground truth multivariate reproduction number $\\boldsymbol{\\mathsf{R}}^\\star$ with inter-county correlations\n",
    "Given $\\boldsymbol{\\mathsf{R}}^\\dagger$ found in `Config_delta_0'`&ensp; they are computed via a Tikhonov regularization as:\n",
    "\n",
    "$$\\boldsymbol{\\mathsf{R}}^\\star (\\boldsymbol{\\mathsf{R}}^\\dagger; \\delta) = \\underset{\\boldsymbol{\\mathsf{R}} \\in \\mathbb{R}^{C\\times T}}{\\mathrm{argmin}} \\, \\lVert \\boldsymbol{\\mathsf{R}}^\\dagger - \\boldsymbol{\\mathsf{R}}\\rVert_2^2 +  \\delta  \\lVert \\mathsf{G} \\boldsymbol{\\mathsf{R}}\\rVert_2^2$$\n",
    "\n",
    "and storaged in `Config_delta_I'`&ensp; `Config_delta_II'`&ensp; `Config_delta_III'`&ensp; `Config_delta_IV'`&ensp; respectively corresponding to $\\delta_{\\mathtt{I}}$, $\\delta_{\\mathtt{II}}$, $\\delta_{\\mathtt{III}}$, $\\delta_{\\mathtt{IV}}$ defined in the associated article. Each of their value can be found in their associated `.mat` file, using the key `deltaValue`."
   ],
   "metadata": {
    "collapsed": false
   }
  },
  {
   "cell_type": "code",
   "execution_count": null,
   "outputs": [],
   "source": [
    "# Adding inter-county correlations to initial realistic univariate R crafted on each county.\n",
    "R_by_county, O_by_county, firstCasesExample, B_matrix = load.loadROconfigMulti(connectStruct, '0')\n",
    "\n",
    "# Inter-county correlation levels computation\n",
    "display_spatCorrLevels(R_by_county, B_matrix, fileSuffix=connectStruct)"
   ],
   "metadata": {
    "collapsed": false,
    "ExecuteTime": {
     "start_time": "2024-03-21T17:24:51.688642Z",
     "end_time": "2024-03-21T17:24:54.076198Z"
    }
   }
  },
  {
   "cell_type": "code",
   "execution_count": null,
   "outputs": [],
   "source": [
    "# Visualization of inter-county correlation levels\n",
    "delta_I, delta_II, delta_III, delta_IV = compute_spatCorrLevels(R_by_county, B_matrix, fileSuffix=connectStruct)\n",
    "deltaList = {'0': 0,\n",
    "             'I': delta_I,\n",
    "             'II': delta_II,\n",
    "             'III': delta_III,\n",
    "             'IV': delta_IV}\n",
    "\n",
    "display_spatCorr_onR(R_by_county, B_matrix, deltaList)"
   ],
   "metadata": {
    "collapsed": false,
    "ExecuteTime": {
     "start_time": "2024-03-21T17:24:54.082310Z",
     "end_time": "2024-03-21T17:24:54.517266Z"
    }
   }
  },
  {
   "cell_type": "code",
   "execution_count": null,
   "outputs": [],
   "source": [
    "# Build synthetic infection counts based on RTrue, OTrue and chosen firstCases for ONE CONFIGURATION\n",
    "configMulti = 'I'\n",
    "R_spat_corr = Tikhonov_spat_corr(R_by_county, B_matrix, delta=deltaList[configMulti])\n",
    "\n",
    "firstCasesMulti = firstCasesExample  # can be modified if needed\n",
    "datesBuilt, ZDataBuilt = build.buildDataMulti_anyRO(R_spat_corr, O_by_county, firstCasesMulti)"
   ],
   "metadata": {
    "collapsed": false,
    "ExecuteTime": {
     "start_time": "2024-03-21T17:24:54.517266Z",
     "end_time": "2024-03-21T17:24:54.690351Z"
    }
   }
  },
  {
   "cell_type": "code",
   "execution_count": null,
   "outputs": [],
   "source": [
    "# Display synthetic infection counts crafted with previous configuration --------------\n",
    "nameCounties = ['1', '2', '3', '4', '5']\n",
    "fig2D, axes2D, datesBuiltCrop = display_figures.display_REstim2D(datesBuilt, ZDataBuilt, R_spat_corr, nameCounties, dataDisp=True)"
   ],
   "metadata": {
    "collapsed": false,
    "ExecuteTime": {
     "start_time": "2024-03-21T17:24:54.551970Z",
     "end_time": "2024-03-21T17:24:54.933016Z"
    }
   }
  }
 ],
 "metadata": {
  "kernelspec": {
   "display_name": "Python 3",
   "language": "python",
   "name": "python3"
  },
  "language_info": {
   "codemirror_mode": {
    "name": "ipython",
    "version": 2
   },
   "file_extension": ".py",
   "mimetype": "text/x-python",
   "name": "python",
   "nbconvert_exporter": "python",
   "pygments_lexer": "ipython2",
   "version": "2.7.6"
  }
 },
 "nbformat": 4,
 "nbformat_minor": 0
}
