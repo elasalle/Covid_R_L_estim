{
 "cells": [
  {
   "cell_type": "code",
   "execution_count": null,
   "metadata": {
    "collapsed": true,
    "ExecuteTime": {
     "start_time": "2023-08-16T11:07:19.714346Z",
     "end_time": "2023-08-16T11:07:19.735885Z"
    }
   },
   "outputs": [],
   "source": [
    "from display import displayFigures\n",
    "from include.build_synth import buildDataFromRO as build\n",
    "from include.build_synth import loadRO as load"
   ]
  },
  {
   "cell_type": "markdown",
   "source": [
    "### Choice of Rref and Oref\n",
    "Here is the list of the configurations available in data/, giving a reference R and O for each.\n",
    "* Configuration `'I'`&ensp;&ensp;&ensp;: faster dynamic changes and a lot of outliers\n",
    "* Configuration `'II'`&ensp;&ensp;: slower dynamic changes and fewer outliers\n",
    "* Configuration `'III'`&ensp;: faster dynamic changes and fewer outliers\n",
    "* Configuration `'IV'`&ensp;&ensp;: slower dynamic changes and a lot of outliers"
   ],
   "metadata": {
    "collapsed": false
   }
  },
  {
   "cell_type": "code",
   "execution_count": null,
   "outputs": [],
   "source": [
    "# Choice of configuration\n",
    "configuration = 'I'\n",
    "\n",
    "RTrue, OTrue = load.loadROconfig(configuration)"
   ],
   "metadata": {
    "collapsed": false,
    "ExecuteTime": {
     "start_time": "2023-08-16T11:07:19.728823Z",
     "end_time": "2023-08-16T11:07:19.747962Z"
    }
   }
  },
  {
   "cell_type": "markdown",
   "source": [
    "### Building synthetic data following Cori's extended model\n",
    "Given `firstCases` initial number of cases for day 1, loaded $\\mathsf{R}^{\\mathsf{true}}$ and $\\mathsf{O}^{\\mathsf{true}}$, build synthetic dates `datesBuilt` and data $\\mathsf{Z}$ (`ZDataBuilt`) drawn following Cori's extended model:\n",
    "\n",
    "For each day $t$, $\\mathsf{Z}_t$ is drawn according to a Poisson law of parameter $\\mathsf{R}^{\\mathsf{true}}_t.(\\Phi\\star\\mathsf{Z})_t + \\mathsf{O}^{\\mathsf{true}}_t$ where $\\Phi$ is the contagiosity."
   ],
   "metadata": {
    "collapsed": false
   }
  },
  {
   "cell_type": "code",
   "execution_count": null,
   "outputs": [],
   "source": [
    "# Choice of number of first cases on day one\n",
    "firstCases = 2000\n",
    "\n",
    "# Build synthetic data based on RTrue, OTrue and chosen firstCases\n",
    "datesBuilt, ZDataBuilt = build.buildData_anyRO(RTrue, OTrue, firstCases)\n",
    "\n",
    "# Display data built\n",
    "fig, axes, formattedDatesBuilt = displayFigures.display_dataBuilt(datesBuilt, ZDataBuilt, RTrue, OTrue)"
   ],
   "metadata": {
    "collapsed": false,
    "ExecuteTime": {
     "start_time": "2023-08-16T11:07:19.744969Z",
     "end_time": "2023-08-16T11:07:24.701367Z"
    }
   }
  }
 ],
 "metadata": {
  "kernelspec": {
   "display_name": "Python 3",
   "language": "python",
   "name": "python3"
  },
  "language_info": {
   "codemirror_mode": {
    "name": "ipython",
    "version": 2
   },
   "file_extension": ".py",
   "mimetype": "text/x-python",
   "name": "python",
   "nbconvert_exporter": "python",
   "pygments_lexer": "ipython2",
   "version": "2.7.6"
  }
 },
 "nbformat": 4,
 "nbformat_minor": 0
}
