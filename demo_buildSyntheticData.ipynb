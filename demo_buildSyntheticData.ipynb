{
 "cells": [
  {
   "cell_type": "code",
   "execution_count": null,
   "metadata": {
    "collapsed": true,
    "ExecuteTime": {
     "start_time": "2024-03-25T14:03:53.239637Z",
     "end_time": "2024-03-25T14:03:53.262497Z"
    }
   },
   "outputs": [],
   "source": [
    "from display import display_figures\n",
    "from display.display_figures_by_county import display_connect_structure, display_spatCorrLevels, display_spatCorr_onR\n",
    "\n",
    "from include.build_synth import buildData_fromRO as build\n",
    "from include.build_synth import load_RO as load\n",
    "\n",
    "from include.build_synth.Tikhonov_method import Tikhonov_spat_corr_config\n",
    "from include.build_synth.compute_spatCorrLevels import compute_spatCorrLevels"
   ]
  },
  {
   "cell_type": "markdown",
   "source": [
    "## Univariate synthetic infection counts\n",
    "\n",
    "### Load ground truth univariate reproduction number $\\boldsymbol{\\mathsf{R}}^\\dagger$ and reporting errors $\\boldsymbol{\\mathsf{O}}^\\dagger$\n",
    "Here is the list of the configurations available in [data/Synthetic/Univariate](data/Synthetic/Univariate), giving ground truths for R and O for each.\n",
    "* Configuration `'I'`&ensp;&ensp;&ensp;: faster dynamic changes and a lot of outliers\n",
    "* Configuration `'II'`&ensp;&ensp;: slower dynamic changes and fewer outliers\n",
    "* Configuration `'III'`&ensp;: faster dynamic changes and fewer outliers\n",
    "* Configuration `'IV'`&ensp;&ensp;: slower dynamic changes and a lot of outliers"
   ],
   "metadata": {
    "collapsed": false
   }
  },
  {
   "cell_type": "code",
   "execution_count": null,
   "outputs": [],
   "source": [
    "# Choice of configuration\n",
    "configuration = 'I'\n",
    "\n",
    "RDagger, ODagger = load.loadROconfig(configuration)"
   ],
   "metadata": {
    "collapsed": false,
    "ExecuteTime": {
     "start_time": "2024-03-25T14:03:53.250479Z",
     "end_time": "2024-03-25T14:03:53.308499Z"
    }
   }
  },
  {
   "cell_type": "markdown",
   "source": [
    "### Building synthetic data following Cori's extended model\n",
    "Given `firstCases` initial number of cases for day 1, loaded $\\mathsf{R}^\\dagger$ and $\\mathsf{O}^\\dagger$, build synthetic data $\\mathsf{Z}$ (`ZDataBuilt`) drawn following Cori's extended model [3]:\n",
    "\n",
    "For each day $t$, $\\mathsf{Z}_t$ is drawn according to a Poisson law of parameter $\\mathsf{R}_{t}^\\dagger \\, \\sum_{s=1}^t \\phi_s\\mathsf{Z}_{t-s} + \\mathsf{O}^\\dagger_t$ where $\\phi$ is the serial interval function."
   ],
   "metadata": {
    "collapsed": false
   }
  },
  {
   "cell_type": "code",
   "execution_count": null,
   "outputs": [],
   "source": [
    "# Choice of number of first cases on day one\n",
    "firstCases1D = 2000\n",
    "\n",
    "# Build synthetic data based on RDagger, ODagger and chosen firstCases\n",
    "ZDataBuilt, options = build.buildData_anyRO(RDagger, ODagger, firstCases1D)\n",
    "\n",
    "# Display data built\n",
    "fig, axes, formattedDatesBuilt = display_figures.display_dataBuilt(ZDataBuilt, RDagger, ODagger, options=options)"
   ],
   "metadata": {
    "collapsed": false,
    "ExecuteTime": {
     "start_time": "2024-03-25T14:03:53.265537Z",
     "end_time": "2024-03-25T14:03:53.656639Z"
    }
   }
  },
  {
   "cell_type": "markdown",
   "source": [
    "## Multivariate synthetic infection counts\n",
    "\n",
    "### Load synthetic reproduction number $\\boldsymbol{\\mathsf{R}}^\\dagger$\n",
    "Here is the list of the configurations available in data/Synthetic/Multivariate, giving ground truth for R and O for each.\n",
    "    - `connectStruct = 'Line'` connectivity structure\n",
    "    - `connectStruct = 'Hub'` connectivity structure\n",
    "each containing configurations associated to various inter-county correlated ground truth $\\boldsymbol{\\mathsf{R}}^\\star$."
   ],
   "metadata": {
    "collapsed": false
   }
  },
  {
   "cell_type": "code",
   "execution_count": null,
   "outputs": [],
   "source": [
    "display_connect_structure('Line')\n",
    "display_connect_structure('Hub')"
   ],
   "metadata": {
    "collapsed": false,
    "ExecuteTime": {
     "start_time": "2024-03-25T14:03:53.653646Z",
     "end_time": "2024-03-25T14:03:53.979347Z"
    }
   }
  },
  {
   "cell_type": "code",
   "execution_count": null,
   "outputs": [],
   "source": [
    "# Choice of connectivity structure and spatial correlation level (configMulti) for multivariate synthetic infection counts\n",
    "connectStruct = 'Line'"
   ],
   "metadata": {
    "collapsed": false,
    "ExecuteTime": {
     "start_time": "2024-03-25T14:03:53.838213Z",
     "end_time": "2024-03-25T14:03:53.979347Z"
    }
   }
  },
  {
   "cell_type": "markdown",
   "source": [
    "### Ground truth multivariate reproduction number $\\boldsymbol{\\mathsf{R}}^\\star$ with inter-county correlations\n",
    "Given $\\boldsymbol{\\mathsf{R}}^\\dagger$ found in `Config_delta_0'`&ensp; they are computed via a Tikhonov regularization as:\n",
    "\n",
    "$$\\boldsymbol{\\mathsf{R}}^\\star (\\boldsymbol{\\mathsf{R}}^\\dagger; \\delta) = \\underset{\\boldsymbol{\\mathsf{R}} \\in \\mathbb{R}^{C\\times T}}{\\mathrm{argmin}} \\, \\lVert \\boldsymbol{\\mathsf{R}}^\\dagger - \\boldsymbol{\\mathsf{R}}\\rVert_2^2 +  \\delta  \\lVert \\mathsf{G} \\boldsymbol{\\mathsf{R}}\\rVert_2^2$$\n",
    "\n",
    "and storaged in `Config_delta_I'`&ensp; `Config_delta_II'`&ensp; `Config_delta_III'`&ensp; `Config_delta_IV'`&ensp; respectively corresponding to $\\delta_{\\mathtt{I}}$, $\\delta_{\\mathtt{II}}$, $\\delta_{\\mathtt{III}}$, $\\delta_{\\mathtt{IV}}$ defined in the associated article. Each of their value can be found in their associated `.mat` file, using the key `deltaValue`."
   ],
   "metadata": {
    "collapsed": false
   }
  },
  {
   "cell_type": "code",
   "execution_count": null,
   "outputs": [],
   "source": [
    "# Adding inter-county correlations to initial realistic univariate R crafted on each county.\n",
    "R_by_county, O_by_county, optionsMulti = load.loadROconfigMulti(connectStruct, '0')\n",
    "\n",
    "# Inter-county correlation levels computation\n",
    "display_spatCorrLevels(R_by_county, options=optionsMulti, fileSuffix=connectStruct)"
   ],
   "metadata": {
    "collapsed": false,
    "ExecuteTime": {
     "start_time": "2024-03-25T14:03:53.854647Z",
     "end_time": "2024-03-25T14:03:54.447578Z"
    }
   }
  },
  {
   "cell_type": "code",
   "execution_count": null,
   "outputs": [],
   "source": [
    "# Visualization of inter-county correlation levels\n",
    "optionsDelta = compute_spatCorrLevels(R_by_county, options=optionsMulti, fileSuffix=connectStruct)\n",
    "\n",
    "display_spatCorr_onR(R_by_county, optionsDelta);"
   ],
   "metadata": {
    "collapsed": false,
    "ExecuteTime": {
     "start_time": "2024-03-25T14:03:54.448573Z",
     "end_time": "2024-03-25T14:03:55.010539Z"
    }
   }
  },
  {
   "cell_type": "code",
   "execution_count": null,
   "outputs": [],
   "source": [
    "# Adding inter-county correlations to R_by_county (or R dagger)\n",
    "configMulti = 'I'\n",
    "R_spat_corr = Tikhonov_spat_corr_config(R_by_county, configMulti, optionsDelta)\n",
    "\n",
    "# Crafting synthetic infection counts using R_spat_corr (or R star)\n",
    "ZDataBuilt, optionsBuilt = build.buildDataMulti_anyRO(R_spat_corr, O_by_county, options=optionsMulti)"
   ],
   "metadata": {
    "collapsed": false,
    "ExecuteTime": {
     "start_time": "2024-03-25T14:03:55.013138Z",
     "end_time": "2024-03-25T14:03:55.383575Z"
    }
   }
  },
  {
   "cell_type": "code",
   "execution_count": null,
   "outputs": [],
   "source": [
    "# Display synthetic infection counts crafted with previous configuration --------------\n",
    "fig2D, axes2D, datesBuiltCrop = display_figures.display_REstim_by_county(ZDataBuilt, R_spat_corr, optionsBuilt, dataDisp=True)"
   ],
   "metadata": {
    "collapsed": false,
    "ExecuteTime": {
     "start_time": "2024-03-25T14:03:55.044198Z",
     "end_time": "2024-03-25T14:03:55.588306Z"
    }
   }
  }
 ],
 "metadata": {
  "kernelspec": {
   "display_name": "Python 3",
   "language": "python",
   "name": "python3"
  },
  "language_info": {
   "codemirror_mode": {
    "name": "ipython",
    "version": 2
   },
   "file_extension": ".py",
   "mimetype": "text/x-python",
   "name": "python",
   "nbconvert_exporter": "python",
   "pygments_lexer": "ipython2",
   "version": "2.7.6"
  }
 },
 "nbformat": 4,
 "nbformat_minor": 0
}
