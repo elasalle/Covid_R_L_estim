{
 "cells": [
  {
   "cell_type": "code",
   "execution_count": null,
   "outputs": [],
   "source": [
    "from display import display_figures\n",
    "\n",
    "from include.build_synth import buildData_fromRO as build\n",
    "from include.build_synth import load_RO as load\n",
    "\n",
    "from include.estim import Rt_MLE as estimMLE\n",
    "from include.estim import Rt_PL as estimPL\n",
    "from include.estim import Rt_Cori as estimCori\n",
    "from include.estim import Rt_Joint as estimJ\n",
    "from include.optim_tools import slidingMAD\n",
    "from include.comparison_tools import SNR\n",
    "from include.comparison_tools import jaccard_index"
   ],
   "metadata": {
    "collapsed": false,
    "ExecuteTime": {
     "start_time": "2023-08-16T11:07:49.199544Z",
     "end_time": "2023-08-16T11:07:49.213812Z"
    }
   }
  },
  {
   "cell_type": "markdown",
   "source": [
    "## Building synthetic data\n",
    "\n",
    "Building according to the chosen configuration and initial number of cases.\n",
    "See demo_buildSyntheticData.ipynb for more detailed building synthetic data explanations."
   ],
   "metadata": {
    "collapsed": false
   }
  },
  {
   "cell_type": "code",
   "execution_count": null,
   "outputs": [],
   "source": [
    "configuration = 'I'  # Choice of configuration\n",
    "firstCases = 100  # Choice of number of first cases on day one\n",
    "\n",
    "# Loading realistic RTrue and OTrue\n",
    "RTrue, OTrue = load.loadROconfig(configuration)\n",
    "# Building synthetic data\n",
    "datesBuilt, ZDataBuilt = build.buildData_anyRO(RTrue, OTrue, firstCases)\n",
    "# Cropping RTrue for further comparisons\n",
    "RTrueCrop = RTrue[1:]"
   ],
   "metadata": {
    "collapsed": false,
    "ExecuteTime": {
     "start_time": "2023-08-16T11:07:49.215807Z",
     "end_time": "2023-08-16T11:07:49.232988Z"
    }
   }
  },
  {
   "cell_type": "code",
   "execution_count": null,
   "outputs": [],
   "source": [
    "# Intermediate display of built data\n",
    "fig, axes, formattedDatesBuilt = display_figures.display_dataBuilt(datesBuilt, ZDataBuilt, RTrue, OTrue)"
   ],
   "metadata": {
    "collapsed": false,
    "ExecuteTime": {
     "start_time": "2023-08-16T11:07:49.230992Z",
     "end_time": "2023-08-16T11:07:53.984201Z"
    }
   }
  },
  {
   "cell_type": "markdown",
   "source": [
    "## Comparison between R estimation methods\n",
    "\n",
    "### Signal-to-Ratio Noise (dB)\n",
    "\n",
    "$\\mathsf{SNR}:=  10 \\times \\log_{10}\\left( \\frac{\\lVert  \\boldsymbol{\\mathsf{R}}^{\\text{true}}\\rVert_2^2}{\\lVert \\widehat{\\boldsymbol{\\mathsf{R}}} - \\boldsymbol{\\mathsf{R}}^{\\text{true}} \\rVert_2^2}\\right)$\n",
    "\n",
    "where $\\widehat{\\boldsymbol{\\mathsf{R}}}$ is the estimated $\\boldsymbol{\\mathsf{R}}$ with a chosen method.\n",
    "### Jaccard index (%)\n",
    "\n",
    "For $\\boldsymbol{\\mathsf{X}}, \\boldsymbol{\\mathsf{Y}} \\in \\lbrace 0, 1\\rbrace^T, \\, \\,  \\mathsf{Jac}^{\\mathsf{g}}(\\boldsymbol{\\mathsf{X}},\\boldsymbol{\\mathsf{Y}}) := \\frac{\\sum_{t=1}^T \\sqrt{\\mathsf{X}^{\\mathsf{g}}_t \\times \\mathsf{Y}^{\\mathsf{g}}_t}}{\\sum_{t=1}^T \\mathsf{X}^{\\mathsf{g}}_t + \\mathsf{Y}^{\\mathsf{g}}_t - \\sqrt{\\mathsf{X}^{\\mathsf{g}}_t \\times \\mathsf{Y}^{\\mathsf{g}}_t}}$\n",
    "\n",
    "where $\\mathsf{X}^{\\mathsf{g}}$ (resp. $\\mathsf{Y}^{\\mathsf{g}}$) is the convolution between the binary vector $\\boldsymbol{\\mathsf{X}}$ (resp. $\\boldsymbol{\\mathsf{Y}}$) and a Gaussian distribution.\n",
    "(see include/comparison_tools/jaccardIndex.py for more details)"
   ],
   "metadata": {
    "collapsed": false
   }
  },
  {
   "cell_type": "markdown",
   "source": [
    "### Maximum Likelihood Estimator\n",
    "* $\\mathsf{R}^{\\mathsf{MLE}} \\in \\mathrm{arg\\, min}_{\\mathsf{R} \\in  \\mathbb{R} ^ {\\mathsf{T}}} -\\ln \\mathsf{Likelihood}(\\mathsf{Z} ^ {\\mathsf{denoised}},  \\mathsf{R})$"
   ],
   "metadata": {
    "collapsed": false
   }
  },
  {
   "cell_type": "code",
   "execution_count": null,
   "outputs": [],
   "source": [
    "# Analytic computation\n",
    "R_MLE, datesMLE, dataMLE = estimMLE.Rt_MLE(datesBuilt, ZDataBuilt)"
   ],
   "metadata": {
    "collapsed": false,
    "ExecuteTime": {
     "start_time": "2023-08-16T11:07:53.985198Z",
     "end_time": "2023-08-16T11:07:54.291375Z"
    }
   }
  },
  {
   "cell_type": "code",
   "execution_count": null,
   "outputs": [],
   "source": [
    "# Computing SNR and Jaccard index\n",
    "print('MLE Method indicators ---')\n",
    "SNR_MLE = SNR.SignaltoNoiseRatio(RTrueCrop, R_MLE)\n",
    "JaccardIndexMLE = jaccard_index.JaccardIndexREstim(RTrueCrop, R_MLE)\n",
    "print(\"SNR = %.3f dB, associated Jaccard index = %.3f %%\" % (SNR_MLE, JaccardIndexMLE))"
   ],
   "metadata": {
    "collapsed": false,
    "ExecuteTime": {
     "start_time": "2023-08-16T11:07:53.999770Z",
     "end_time": "2023-08-16T11:07:54.368760Z"
    }
   }
  },
  {
   "cell_type": "code",
   "execution_count": null,
   "outputs": [],
   "source": [
    "# Individual display\n",
    "figMLE, axesMLE, formattedDatesMLE = display_figures.display_REstim(datesMLE, dataMLE, R_MLE, 'MLE', RTrue=RTrue)"
   ],
   "metadata": {
    "collapsed": false,
    "ExecuteTime": {
     "start_time": "2023-08-16T11:07:54.014888Z",
     "end_time": "2023-08-16T11:07:54.387040Z"
    }
   }
  },
  {
   "cell_type": "markdown",
   "source": [
    "### Cori Estimator\n",
    "* $\\mathsf{R}^{\\mathsf{Cori}} = \\frac{1 + \\sum_{s = t -\\tau}^{t}\\mathsf{Z}_s}{5 + \\sum_{s = t -\\tau}^{t}(\\Phi\\star\\mathsf{Z})_s}$"
   ],
   "metadata": {
    "collapsed": false
   }
  },
  {
   "cell_type": "code",
   "execution_count": null,
   "outputs": [],
   "source": [
    "# Analytic computation\n",
    "R_Cori, datesCori, dataCori = estimCori.Rt_C(datesBuilt, ZDataBuilt)"
   ],
   "metadata": {
    "collapsed": false,
    "ExecuteTime": {
     "start_time": "2023-08-16T11:07:54.264257Z",
     "end_time": "2023-08-16T11:07:54.388037Z"
    }
   }
  },
  {
   "cell_type": "code",
   "execution_count": null,
   "outputs": [],
   "source": [
    "# Computing SNR and Jaccard index\n",
    "print('Cori Method indicators ---')\n",
    "SNR_Cori = SNR.SignaltoNoiseRatio(RTrueCrop, R_Cori)\n",
    "JaccardIndexCori = jaccard_index.JaccardIndexREstim(RTrueCrop, R_Cori)\n",
    "print(\"SNR = %.3f dB, associated Jaccard index = %.3f %%\" % (SNR_Cori, JaccardIndexCori))"
   ],
   "metadata": {
    "collapsed": false,
    "ExecuteTime": {
     "start_time": "2023-08-16T11:07:54.279203Z",
     "end_time": "2023-08-16T11:07:54.388037Z"
    }
   }
  },
  {
   "cell_type": "code",
   "execution_count": null,
   "outputs": [],
   "source": [
    "# Individual display\n",
    "figCori, axesCori, formattedDatesCori = display_figures.display_REstim(datesCori, dataCori, R_Cori, 'Cori', RTrue=RTrue)"
   ],
   "metadata": {
    "collapsed": false,
    "ExecuteTime": {
     "start_time": "2023-08-16T11:07:54.296334Z",
     "end_time": "2023-08-16T11:07:54.693906Z"
    }
   }
  },
  {
   "cell_type": "markdown",
   "source": [
    "### Penalized Likelihood estimation\n",
    "1. $\\mathsf{Z}^{\\mathsf{denoised}} = \\mathsf{slidingMAD}(\\mathsf{Z}, \\alpha)$\n",
    "\n",
    "2. $\\mathsf{R}^{\\mathsf{PL}} \\in \\mathrm{arg\\, min}_{\\mathsf{R} \\in  \\mathbb{R} ^ {\\mathsf{T}}} -\\ln \\mathsf{Likelihood}(\\mathsf{Z}^{\\mathsf{denoised}},  \\mathsf{R}) + \\mu_\\mathsf{R} \\| \\boldsymbol{\\mathsf{D}}_2\\mathsf{R}\\|_1$"
   ],
   "metadata": {
    "collapsed": false
   }
  },
  {
   "cell_type": "code",
   "execution_count": null,
   "outputs": [],
   "source": [
    "# Choice of denoising parameter alpha and regularization parameter muR\n",
    "alpha = 0\n",
    "muR = 50\n",
    "\n",
    "# Denoising with sliding MAD then solving with Chambolle-Pock algorithm\n",
    "denoisedData = slidingMAD.slidingMAD(ZDataBuilt, alpha)\n",
    "R_PL, datesPL, denoisedDataPL = estimPL.Rt_PL(datesBuilt, denoisedData, muR)"
   ],
   "metadata": {
    "collapsed": false,
    "ExecuteTime": {
     "start_time": "2023-08-16T11:07:54.496052Z",
     "end_time": "2023-08-16T11:07:55.855938Z"
    }
   }
  },
  {
   "cell_type": "code",
   "execution_count": null,
   "outputs": [],
   "source": [
    "# Computing SNR and Jaccard index\n",
    "print('PL Method indicators ---')\n",
    "SNR_PL = SNR.SignaltoNoiseRatio(RTrueCrop, R_PL)\n",
    "JaccardIndexPL = jaccard_index.JaccardIndexREstim(RTrueCrop, R_PL)\n",
    "print(\"SNR = %.3f dB, associated Jaccard index = %.3f %%\" % (SNR_PL, JaccardIndexPL))"
   ],
   "metadata": {
    "collapsed": false,
    "ExecuteTime": {
     "start_time": "2023-08-16T11:07:55.827244Z",
     "end_time": "2023-08-16T11:07:55.855938Z"
    }
   }
  },
  {
   "cell_type": "code",
   "execution_count": null,
   "outputs": [],
   "source": [
    "# Individual display\n",
    "dataCropped = ZDataBuilt[1:]  # data[0] is used for burn-in\n",
    "figPL, axesPL, formattedDatesPL = display_figures.display_REstim(datesPL, dataCropped, R_PL, 'PL', RTrue=RTrue)"
   ],
   "metadata": {
    "collapsed": false,
    "ExecuteTime": {
     "start_time": "2023-08-16T11:07:55.841413Z",
     "end_time": "2023-08-16T11:07:56.053868Z"
    }
   }
  },
  {
   "cell_type": "markdown",
   "source": [
    "### Joint estimation\n",
    "\n",
    "* $\\mathsf{R}^{\\mathsf{Joint}}, \\mathsf{O}^{\\mathsf{Joint}} \\in  \\mathrm{arg\\, min}_{\\mathsf{R}, \\mathsf{O} \\in \\mathbb{R}^{\\mathsf{T}}} -\\ln \\mathsf{Likelihood}(\\mathsf{Z}, \\mathsf{R},  \\mathsf{O}) + \\lambda_\\mathsf{R} \\| \\boldsymbol{\\mathsf{D}}_2\\mathsf{R}\\|_1 + \\lambda_\\mathsf{O} \\| \\mathsf{O}\\|_1$"
   ],
   "metadata": {
    "collapsed": false
   }
  },
  {
   "cell_type": "code",
   "execution_count": null,
   "outputs": [],
   "source": [
    "# Choice of denoising parameter alpha and regularization parameter muR\n",
    "lambdaR = 3.5\n",
    "lambdaO = 0.03\n",
    "\n",
    "# Solving with Chambolle-Pock algorithm\n",
    "R_Joint, O_Joint, datesJ, dataJ = estimJ.Rt_J(datesBuilt, ZDataBuilt, lambdaR, lambdaO)"
   ],
   "metadata": {
    "collapsed": false,
    "ExecuteTime": {
     "start_time": "2023-08-16T11:07:56.044739Z",
     "end_time": "2023-08-16T11:08:27.676006Z"
    }
   }
  },
  {
   "cell_type": "code",
   "execution_count": null,
   "outputs": [],
   "source": [
    "# Computing SNR and Jaccard index\n",
    "print('J Method indicators ---')\n",
    "SNR_Joint = SNR.SignaltoNoiseRatio(RTrueCrop, R_Joint)\n",
    "JaccardIndexJoint = jaccard_index.JaccardIndexREstim(RTrueCrop, R_Joint)\n",
    "print(\"SNR = %.3f dB, associated Jaccard index = %.3f %%\" % (SNR_Joint, JaccardIndexJoint))"
   ],
   "metadata": {
    "collapsed": false,
    "ExecuteTime": {
     "start_time": "2023-08-16T11:08:27.676006Z",
     "end_time": "2023-08-16T11:08:27.690577Z"
    }
   }
  },
  {
   "cell_type": "code",
   "execution_count": null,
   "outputs": [],
   "source": [
    "# Individual display\n",
    "figJoint, axesJoint, formattedDatesJoint = display_figures.display_REstim(datesJ, dataJ, R_Joint, 'Joint', RTrue=RTrue)"
   ],
   "metadata": {
    "collapsed": false,
    "ExecuteTime": {
     "start_time": "2023-08-16T11:08:27.690577Z",
     "end_time": "2023-08-16T11:08:27.875498Z"
    }
   }
  },
  {
   "cell_type": "markdown",
   "source": [
    "### Display comparison"
   ],
   "metadata": {
    "collapsed": false
   }
  },
  {
   "cell_type": "code",
   "execution_count": null,
   "outputs": [],
   "source": [
    "# Gather all methods\n",
    "methods = ['MLE', 'Cori', 'PL', 'Joint']\n",
    "REstimations = {'MLE': R_MLE,\n",
    "                'Cori': R_Cori,\n",
    "                'PL': R_PL,\n",
    "                'Joint': R_Joint}\n",
    "\n",
    "# Display comparison between methods\n",
    "figComp, axesComp, formattedDatesComp = display_figures.display_REstim(datesJ, dataJ, REstimations, methods, RTrue=RTrue, comparison=True)"
   ],
   "metadata": {
    "collapsed": false,
    "ExecuteTime": {
     "start_time": "2023-08-16T11:08:27.876495Z",
     "end_time": "2023-08-16T11:08:28.157014Z"
    }
   }
  }
 ],
 "metadata": {
  "kernelspec": {
   "display_name": "Python 3",
   "language": "python",
   "name": "python3"
  },
  "language_info": {
   "codemirror_mode": {
    "name": "ipython",
    "version": 2
   },
   "file_extension": ".py",
   "mimetype": "text/x-python",
   "name": "python",
   "nbconvert_exporter": "python",
   "pygments_lexer": "ipython2",
   "version": "2.7.6"
  }
 },
 "nbformat": 4,
 "nbformat_minor": 0
}
