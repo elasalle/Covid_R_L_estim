{
 "cells": [
  {
   "cell_type": "code",
   "execution_count": null,
   "outputs": [],
   "source": [
    "from display.display_figures import display_REstim, display_dataBuilt\n",
    "from display.display_figures_by_county import display_comparison_uni_multi, display_comparison_error_uni_multi\n",
    "\n",
    "from include.build_synth import buildData_fromRO as build\n",
    "from include.build_synth import load_RO as load\n",
    "from include.build_synth.Tikhonov_method import Tikhonov_spat_corr_config\n",
    "from include.build_synth.compute_spatCorrLevels import compute_spatCorrLevels\n",
    "\n",
    "from include.optim_tools.sliding_median import sliding_median\n",
    "\n",
    "# For Rt estimation\n",
    "from include.estim.Rt_MLE import Rt_MLE\n",
    "from include.estim.Rt_Gamma import Rt_Gamma\n",
    "from include.estim.Rt_Univariate import Rt_U\n",
    "from include.estim.Rt_UnivariateOutliers import Rt_U_O\n",
    "from include.estim.Rt_Multivariate import Rt_M\n",
    "\n",
    "from include.comparison_tools.SNR import SignaltoNoiseRatio\n",
    "from include.comparison_tools.jaccard_index import JaccardIndexREstim"
   ],
   "metadata": {
    "collapsed": false,
    "ExecuteTime": {
     "start_time": "2024-03-26T14:26:12.091040Z",
     "end_time": "2024-03-26T14:26:13.061637Z"
    }
   }
  },
  {
   "cell_type": "markdown",
   "source": [
    "## Building univariate synthetic infection counts\n",
    "\n",
    "Building according to the chosen configuration and initial number of cases.\n",
    "See `demo_buildSyntheticData.ipynb` for more detailed building synthetic data explanations."
   ],
   "metadata": {
    "collapsed": false
   }
  },
  {
   "cell_type": "code",
   "execution_count": null,
   "outputs": [],
   "source": [
    "configuration = 'I'  # Choice of configuration\n",
    "firstCases = 100  # Choice of number of first cases on day one\n",
    "\n",
    "# Loading realistic RDagger and ODagger\n",
    "RDagger, ODagger = load.loadROconfig(configuration)\n",
    "\n",
    "# Building synthetic data\n",
    "ZDataBuilt, options = build.buildData_anyRO(RDagger, ODagger, firstCases)\n",
    "\n",
    "# Cropping RDagger for further comparisons\n",
    "RDaggerCrop = RDagger[1:];"
   ],
   "metadata": {
    "collapsed": false,
    "ExecuteTime": {
     "start_time": "2024-03-26T13:40:53.917637Z",
     "end_time": "2024-03-26T13:40:53.941739Z"
    }
   }
  },
  {
   "cell_type": "code",
   "execution_count": null,
   "outputs": [],
   "source": [
    "# Intermediate display of built data\n",
    "display_dataBuilt(ZDataBuilt, RDagger, ODagger, options=options);"
   ],
   "metadata": {
    "collapsed": false,
    "ExecuteTime": {
     "start_time": "2024-03-26T13:40:53.941739Z",
     "end_time": "2024-03-26T13:40:58.943358Z"
    }
   }
  },
  {
   "cell_type": "markdown",
   "source": [
    "## Comparison between R estimation methods\n",
    "\n",
    "### Signal-to-Ratio Noise (dB)\n",
    "\n",
    "$\\mathsf{SNR}:=  10 \\times \\log_{10}\\left( \\frac{\\lVert  \\boldsymbol{\\mathsf{R}}^{\\dagger}\\rVert_2^2}{\\lVert \\widehat{\\boldsymbol{\\mathsf{R}}} - \\boldsymbol{\\mathsf{R}}^{\\dagger} \\rVert_2^2}\\right)$\n",
    "\n",
    "where $\\widehat{\\boldsymbol{\\mathsf{R}}}$ is the estimated reproduction number with a chosen method, compared to ground truth $\\boldsymbol{\\mathsf{R}}^\\dagger$.\n",
    "### Jaccard index (%)\n",
    "\n",
    "For $\\boldsymbol{\\mathsf{X}}, \\boldsymbol{\\mathsf{Y}} \\in \\lbrace 0, 1\\rbrace^T, \\, \\,  \\mathsf{Jac}^{\\mathsf{g}}(\\boldsymbol{\\mathsf{X}},\\boldsymbol{\\mathsf{Y}}) := \\frac{\\sum_{t=1}^T \\sqrt{\\mathsf{X}^{\\mathsf{g}}_t \\times \\mathsf{Y}^{\\mathsf{g}}_t}}{\\sum_{t=1}^T \\mathsf{X}^{\\mathsf{g}}_t + \\mathsf{Y}^{\\mathsf{g}}_t - \\sqrt{\\mathsf{X}^{\\mathsf{g}}_t \\times \\mathsf{Y}^{\\mathsf{g}}_t}}$\n",
    "\n",
    "where $\\mathsf{X}^{\\mathsf{g}}$ (resp. $\\mathsf{Y}^{\\mathsf{g}}$) is the convolution between the binary vector $\\boldsymbol{\\mathsf{X}}$ (resp. $\\boldsymbol{\\mathsf{Y}}$) and a Gaussian distribution.\n",
    "(see [include/comparison_tools/jaccard_index.py](include/comparison_tools/jaccard_index.py) for more details)"
   ],
   "metadata": {
    "collapsed": false
   }
  },
  {
   "cell_type": "markdown",
   "source": [
    "### Maximum Likelihood Estimator\n",
    "$$ \\widehat{\\mathsf{R}}_t^{\\mathsf{MLE}} = \\frac{\\mathsf{Z}_t}{\\Phi^{\\boldsymbol{\\mathsf{Z}}}_{t}} $$"
   ],
   "metadata": {
    "collapsed": false
   }
  },
  {
   "cell_type": "code",
   "execution_count": null,
   "outputs": [],
   "source": [
    "# Analytic computation\n",
    "R_MLE, options_MLE = Rt_MLE(ZDataBuilt, options)"
   ],
   "metadata": {
    "collapsed": false,
    "ExecuteTime": {
     "start_time": "2024-03-26T13:40:58.943358Z",
     "end_time": "2024-03-26T13:40:58.951865Z"
    }
   }
  },
  {
   "cell_type": "code",
   "execution_count": null,
   "outputs": [],
   "source": [
    "# Computing SNR and Jaccard index\n",
    "print('MLE performance indicators ---')\n",
    "SNR_MLE = SignaltoNoiseRatio(RDaggerCrop, R_MLE)\n",
    "JaccardIndexMLE = JaccardIndexREstim(RDaggerCrop, R_MLE)\n",
    "print(\"SNR = %.3f dB, associated Jaccard index = %.3f %%\" % (SNR_MLE, JaccardIndexMLE))"
   ],
   "metadata": {
    "collapsed": false,
    "ExecuteTime": {
     "start_time": "2024-03-25T14:59:00.006812Z",
     "end_time": "2024-03-25T14:59:00.047078Z"
    }
   }
  },
  {
   "cell_type": "code",
   "execution_count": null,
   "outputs": [],
   "source": [
    "# Individual display\n",
    "display_REstim(R_MLE, RTrue=RDagger, options=options_MLE);"
   ],
   "metadata": {
    "collapsed": false,
    "ExecuteTime": {
     "start_time": "2024-03-22T19:09:20.234456Z",
     "end_time": "2024-03-22T19:09:21.635469Z"
    }
   }
  },
  {
   "cell_type": "markdown",
   "source": [
    "### Bayesian Estimator\n",
    "\n",
    "$$\\widehat{\\mathsf{R}}_t^\\Gamma = \\frac{1 + \\sum_{s=t-\\tau}^{t}\\mathsf{Z}_s}{5 + \\sum_{s=t-\\tau}^{t}\\Phi^{\\boldsymbol{\\mathsf{Z}}}_{s}}$$\n"
   ],
   "metadata": {
    "collapsed": false
   }
  },
  {
   "cell_type": "code",
   "execution_count": null,
   "outputs": [],
   "source": [
    "# Choice of the hyperparameter\n",
    "tau = 15\n",
    "\n",
    "# Analytic computation\n",
    "R_Gamma, options_Gamma = Rt_Gamma(ZDataBuilt, tau=tau, options=options)"
   ],
   "metadata": {
    "collapsed": false,
    "ExecuteTime": {
     "start_time": "2024-03-25T14:56:15.235631Z",
     "end_time": "2024-03-25T14:56:15.277473Z"
    }
   }
  },
  {
   "cell_type": "code",
   "execution_count": null,
   "outputs": [],
   "source": [
    "# Computing SNR and Jaccard index\n",
    "print('Bayesian estimator performance indicators ---')\n",
    "SNR_Gamma = SignaltoNoiseRatio(RDaggerCrop, R_Gamma)\n",
    "JaccardIndexGamma = JaccardIndexREstim(RDaggerCrop, R_Gamma)\n",
    "print(\"SNR = %.3f dB, associated Jaccard index = %.3f %%\" % (SNR_Gamma, JaccardIndexGamma))"
   ],
   "metadata": {
    "collapsed": false,
    "ExecuteTime": {
     "start_time": "2024-03-26T13:59:53.024865Z",
     "end_time": "2024-03-26T14:01:05.754183Z"
    }
   }
  },
  {
   "cell_type": "code",
   "execution_count": null,
   "outputs": [],
   "source": [
    "# Individual display\n",
    "display_REstim(R_Gamma, RTrue=RDagger, options=options_Gamma);"
   ],
   "metadata": {
    "collapsed": false,
    "ExecuteTime": {
     "start_time": "2024-03-22T19:09:21.668080Z",
     "end_time": "2024-03-22T19:09:22.040108Z"
    }
   }
  },
  {
   "cell_type": "markdown",
   "source": [
    "### Univariate estimation\n",
    "\n",
    "1. $\\mathsf{Z}^{(\\alpha)} =$ `sliding_median`$(\\mathsf{Z}; \\alpha)$\n",
    "    &nbsp;\n",
    "\n",
    "2. $ \\widehat{\\boldsymbol{\\mathsf{R}}}^{\\mathsf{U}} = \\underset{\\boldsymbol{\\mathsf{R}} \\in \\mathbb{R}_+^{ T}}{\\mathrm{argmin}} \\,\\mathrm{D}_{\\mathsf{KL}}(\\boldsymbol{\\mathsf{Z}}^{(\\alpha)} | \\boldsymbol{\\mathsf{p}}) + \\lambda_{\\mathsf{L}}^{\\mathsf{U}} \\lVert \\mathsf{L} \\boldsymbol{\\mathsf{R}}\\rVert_1 , \\quad \\mathsf{p}_t = \\mathsf{R}_t \\Phi^{\\boldsymbol{\\mathsf{Z}}}_t$"
   ],
   "metadata": {
    "collapsed": false
   }
  },
  {
   "cell_type": "code",
   "execution_count": null,
   "outputs": [],
   "source": [
    "# Choice of denoising parameter alpha and regularization parameter muR\n",
    "alpha = 0.1\n",
    "lambdaU_L = 50\n",
    "\n",
    "# Denoising with sliding median then solving with Chambolle-Pock algorithm\n",
    "Z_alpha = sliding_median(ZDataBuilt, alpha)\n",
    "R_U, options_U = Rt_U(Z_alpha, lambdaU_L, options=options)"
   ],
   "metadata": {
    "collapsed": false,
    "ExecuteTime": {
     "start_time": "2024-03-25T14:56:24.591287Z",
     "end_time": "2024-03-25T14:56:29.089443Z"
    }
   }
  },
  {
   "cell_type": "code",
   "execution_count": null,
   "outputs": [],
   "source": [
    "# Computing SNR and Jaccard index\n",
    "print('Univariate estimator performance indicators ---')\n",
    "SNR_U = SignaltoNoiseRatio(RDaggerCrop, R_U)\n",
    "JaccardIndexU = JaccardIndexREstim(RDaggerCrop, R_U)\n",
    "print(\"SNR = %.3f dB, associated Jaccard index = %.3f %%\" % (SNR_U, JaccardIndexU))"
   ],
   "metadata": {
    "collapsed": false,
    "ExecuteTime": {
     "start_time": "2024-03-25T14:56:32.073327Z",
     "end_time": "2024-03-25T14:56:32.097952Z"
    }
   }
  },
  {
   "cell_type": "code",
   "execution_count": null,
   "outputs": [],
   "source": [
    "# Individual display\n",
    "display_REstim(R_U, RTrue=RDagger, options=options_U);"
   ],
   "metadata": {
    "collapsed": false,
    "ExecuteTime": {
     "start_time": "2024-03-25T14:56:34.671509Z",
     "end_time": "2024-03-25T14:56:34.973204Z"
    }
   }
  },
  {
   "cell_type": "markdown",
   "source": [
    "### Univariate reproduction number estimator including misreported counts correction\n",
    "\n",
    "$$\\widehat{\\boldsymbol{\\mathsf{R}}}^{\\mathsf{U-O}}, \\widehat{\\boldsymbol{\\mathsf{O}}}^{\\mathsf{U-O}} = \\, \\underset{\\boldsymbol{\\mathsf{R}} \\in \\mathbb{R}_+^{ T}, \\boldsymbol{\\mathsf{O}} \\in \\mathbb{R}^{ T}}{\\mathrm{argmin}} \\,\\mathrm{D}_{\\mathsf{KL}}(\\boldsymbol{\\mathsf{Z}} | \\boldsymbol{\\mathsf{p}}) + \\lambda_{\\mathsf{L}}^{\\mathsf{U}} \\lVert \\mathsf{L} \\boldsymbol{\\mathsf{R}}\\rVert_1 + \\lambda_\\mathsf{O}^\\mathsf{U} \\lVert \\mathsf{O}\\rVert_1 , \\quad \\mathsf{p}_t = \\mathsf{R}_t \\Phi^{\\boldsymbol{\\mathsf{Z}}}_t$$"
   ],
   "metadata": {
    "collapsed": false
   }
  },
  {
   "cell_type": "code",
   "execution_count": null,
   "outputs": [],
   "source": [
    "# Choice of denoising parameter alpha and regularization parameter muR\n",
    "lambdaR = 3.5\n",
    "lambdaO = 0.03\n",
    "\n",
    "# Solving with Chambolle-Pock algorithm\n",
    "R_UO, O_UO, options_UO = Rt_U_O(ZDataBuilt, lambdaR=lambdaR, lambdaO=lambdaO, options=options)\n"
   ],
   "metadata": {
    "collapsed": false,
    "ExecuteTime": {
     "start_time": "2024-03-22T19:09:26.701990Z",
     "end_time": "2024-03-22T19:09:54.245412Z"
    }
   }
  },
  {
   "cell_type": "code",
   "execution_count": null,
   "outputs": [],
   "source": [
    "# Computing SNR and Jaccard index\n",
    "print('Univariate estimator including misreported counts performance indicators ---')\n",
    "SNR_UO = SignaltoNoiseRatio(RDaggerCrop, R_UO)\n",
    "JaccardIndexUO = JaccardIndexREstim(RDaggerCrop, R_UO)\n",
    "print(\"SNR = %.3f dB, associated Jaccard index = %.3f %%\" % (SNR_UO, JaccardIndexUO))"
   ],
   "metadata": {
    "collapsed": false,
    "ExecuteTime": {
     "start_time": "2024-03-22T19:09:54.251645Z",
     "end_time": "2024-03-22T19:09:54.287907Z"
    }
   }
  },
  {
   "cell_type": "code",
   "execution_count": null,
   "outputs": [],
   "source": [
    "# Individual display\n",
    "display_REstim(R_UO, RTrue=RDagger, options=options_UO);"
   ],
   "metadata": {
    "collapsed": false,
    "ExecuteTime": {
     "start_time": "2024-03-22T19:09:54.260717Z",
     "end_time": "2024-03-22T19:09:54.555603Z"
    }
   }
  },
  {
   "cell_type": "markdown",
   "source": [
    "### Summary of univariate estimations"
   ],
   "metadata": {
    "collapsed": false
   }
  },
  {
   "cell_type": "code",
   "execution_count": null,
   "outputs": [],
   "source": [
    "# Gather all methods\n",
    "REstimations = {'MLE': R_MLE, 'Gamma': R_Gamma, 'U': R_U, 'U-O': R_UO}\n",
    "optionsAll = {'MLE': options_MLE, 'Gamma': options_Gamma, 'U': options_U, 'U-O': options_UO}\n",
    "\n",
    "# Display comparison between methods\n",
    "display_REstim(REstimations, optionsAll, RTrue=RDagger, comparison=True);"
   ],
   "metadata": {
    "collapsed": false,
    "ExecuteTime": {
     "start_time": "2024-03-22T19:12:27.272222Z",
     "end_time": "2024-03-22T19:12:27.636141Z"
    }
   }
  },
  {
   "cell_type": "markdown",
   "source": [
    "## Multivariate/univariate performances comparison\n",
    "\n",
    "### Performances quantitative tools\n",
    "* Mean Square Error for multivariate counts: a smaller value means better performance\n",
    "\n",
    "    $$\\mathsf{MSE} := \\frac{1}{C} \\sum_{c=1}^C  \\frac{\\sum_{t = 1}^T \\left( \\widehat{\\mathsf{R}}_{c, t} - \\mathsf{R}^\\star_{c, t} \\right)^2}{\\sum_{t = 1}^T \\left(\\mathsf{R}^\\star_{c, t}\\right)^2}$$\n",
    "\n",
    "* Signal-to-Ratio Noise (dB): a greater value means better performance\n",
    "\n",
    "    $$\\mathsf{SNR}:=  10 \\times \\log_{10}\\left( \\frac{\\lVert  \\boldsymbol{\\mathsf{R}}^{\\star}\\rVert_2^2}{\\lVert \\widehat{\\boldsymbol{\\mathsf{R}}} - \\boldsymbol{\\mathsf{R}}^{\\star} \\rVert_2^2}\\right)$$\n",
    "\n",
    "* Jaccard index (%): a greater value means better performance\n",
    "\n",
    "    $$\\forall \\,\\, \\boldsymbol{\\mathsf{X}}, \\boldsymbol{\\mathsf{Y}} \\in \\lbrace 0, 1\\rbrace^T, \\, \\,  \\mathsf{Jac}^{\\mathsf{g}}(\\boldsymbol{\\mathsf{X}},\\boldsymbol{\\mathsf{Y}}) := \\frac{\\sum_{t=1}^T \\sqrt{\\mathsf{X}^{\\mathsf{g}}_t \\times \\mathsf{Y}^{\\mathsf{g}}_t}}{\\sum_{t=1}^T \\mathsf{X}^{\\mathsf{g}}_t + \\mathsf{Y}^{\\mathsf{g}}_t - \\sqrt{\\mathsf{X}^{\\mathsf{g}}_t \\times \\mathsf{Y}^{\\mathsf{g}}_t}}$$"
   ],
   "metadata": {
    "collapsed": false
   }
  },
  {
   "cell_type": "code",
   "execution_count": null,
   "outputs": [],
   "source": [
    "from include.comparison_tools.jaccard_index import JaccardIndexAveraged\n",
    "from include.comparison_tools.MSE import MSEMeanNorm"
   ],
   "metadata": {
    "collapsed": false,
    "ExecuteTime": {
     "start_time": "2024-03-26T14:28:48.106969Z",
     "end_time": "2024-03-26T14:28:48.120443Z"
    }
   }
  },
  {
   "cell_type": "markdown",
   "source": [
    "### Spatially correlated reproduction number ground truth\n",
    "Crafting spatially correlated $\\boldsymbol{\\mathsf{R}}^\\star$ using $\\boldsymbol{\\mathsf{R}}^\\dagger$ and inter-county correlation level $\\delta$:\n",
    "\n",
    "$$\\boldsymbol{\\mathsf{R}}^\\star (\\boldsymbol{\\mathsf{R}}^\\dagger; \\delta) = \\underset{\\boldsymbol{\\mathsf{R}} \\in \\mathbb{R}^{C\\times T}}{\\mathrm{argmin}} \\, \\lVert \\boldsymbol{\\mathsf{R}}^\\dagger - \\boldsymbol{\\mathsf{R}}\\rVert_2^2 +  \\delta  \\lVert \\mathsf{G} \\boldsymbol{\\mathsf{R}}\\rVert_2^2$$"
   ],
   "metadata": {
    "collapsed": false
   }
  },
  {
   "cell_type": "markdown",
   "source": [],
   "metadata": {
    "collapsed": false
   }
  },
  {
   "cell_type": "code",
   "execution_count": null,
   "outputs": [],
   "source": [
    "# Choice of connectivity structure and spatial correlation level (configMulti) for multivariate synthetic infection counts\n",
    "connectStruct = 'Line'  # or 'Hub'\n",
    "\n",
    "# Loading R dagger = R_by_county and O dagger = O_by_county, crafted on each county.\n",
    "R_by_county, O_by_county, optionsMulti = load.loadROconfigMulti(connectStruct, '0')\n",
    "\n",
    "# Computing inter-county correlation levels\n",
    "optionsDelta = compute_spatCorrLevels(R_by_county, options=optionsMulti, fileSuffix=connectStruct)\n",
    "\n",
    "# Adding inter-county correlations to R_by_county (or R_dagger)\n",
    "configMulti = 'IV'\n",
    "R_star = Tikhonov_spat_corr_config(R_by_county, configMulti, optionsDelta)\n",
    "\n",
    "# Crafting synthetic infection counts using R_spat_corr (or R star)\n",
    "ZDataBuiltMulti, optionsBuiltMulti = build.buildDataMulti_anyRO(R_star, O_by_county, options=optionsMulti)"
   ],
   "metadata": {
    "collapsed": false,
    "ExecuteTime": {
     "start_time": "2024-03-26T14:28:48.780140Z",
     "end_time": "2024-03-26T14:28:48.807205Z"
    }
   }
  },
  {
   "cell_type": "markdown",
   "source": [
    "### Univariate estimation (by county)\n",
    "$$ \\widehat{\\boldsymbol{\\mathsf{R}}}^{\\mathsf{U}} = \\, \\underset{\\boldsymbol{\\mathsf{R}} \\in \\mathbb{R}_+^{ T}}{\\mathrm{argmin}} \\,\\mathrm{D}_{\\mathsf{KL}}(\\boldsymbol{\\mathsf{Z}} | \\boldsymbol{\\mathsf{p}}) + \\lambda_{\\mathsf{L}}^{\\mathsf{U}} \\lVert \\mathsf{L} \\boldsymbol{\\mathsf{R}}\\rVert_1 , \\quad \\mathsf{p}_t = \\mathsf{R}_t \\Phi^{\\boldsymbol{\\mathsf{Z}}}_t$$"
   ],
   "metadata": {
    "collapsed": false
   }
  },
  {
   "cell_type": "code",
   "execution_count": null,
   "outputs": [],
   "source": [
    "lambdaU_L = 50\n",
    "R_uni, options_U = Rt_U(ZDataBuiltMulti, lambdaU_L, options=optionsBuiltMulti)"
   ],
   "metadata": {
    "collapsed": false,
    "ExecuteTime": {
     "start_time": "2024-03-26T14:28:50.423127Z",
     "end_time": "2024-03-26T14:28:55.238608Z"
    }
   }
  },
  {
   "cell_type": "code",
   "execution_count": null,
   "outputs": [],
   "source": [
    "# Computing performances quantities ---\n",
    "print('Univariate estimator performance indicators ---')\n",
    "MSE_uni = MSEMeanNorm(R_star[:, 1:], R_uni) * 100  # for displaying purposes\n",
    "SNR_uni = SignaltoNoiseRatio(R_star[:, 1:], R_uni)\n",
    "JaccardIndex_uni = JaccardIndexAveraged(R_star[:, 1:], R_uni)\n",
    "print(\"MSE x 100 = %.3f (to minimize)\\nSNR = %.2f dB (to maximize)\\nAssociated Jaccard index = %.2f %%\" % (MSE_uni, SNR_uni, JaccardIndex_uni))"
   ],
   "metadata": {
    "collapsed": false,
    "ExecuteTime": {
     "start_time": "2024-03-26T14:28:55.222051Z",
     "end_time": "2024-03-26T14:28:55.247859Z"
    }
   }
  },
  {
   "cell_type": "markdown",
   "source": [
    "### Multivariate estimation\n",
    "\n",
    "    $$ \\widehat{\\boldsymbol{\\mathsf{R}}}^{\\mathsf{M}} = \\, \\underset{\\boldsymbol{\\mathsf{R}} \\in \\mathbb{R}_+^{C\\times T}}{\\mathrm{argmin}} \\,\\mathrm{D}_{\\mathsf{KL}}(\\boldsymbol{\\mathsf{Z}} | \\boldsymbol{\\mathsf{p}}) + \\lambda_{\\mathsf{L}}^{\\mathsf{M}} \\lVert \\mathsf{L} \\boldsymbol{\\mathsf{R}}\\rVert_1 + \\lambda_{\\mathsf{G}}^{\\mathsf{M}} \\lVert \\mathsf{G} \\boldsymbol{\\mathsf{R}}\\rVert_1, \\quad \\mathsf{p}_t = \\mathsf{R}_t \\Phi^{\\boldsymbol{\\mathsf{Z}}}_t$$"
   ],
   "metadata": {
    "collapsed": false
   }
  },
  {
   "cell_type": "code",
   "execution_count": null,
   "outputs": [],
   "source": [
    "lambdaM_L = 50\n",
    "lambdaM_G = 0.005\n",
    "R_multi, options_M = Rt_M(ZDataBuiltMulti, lambdaM_L, lambdaM_G, options=optionsBuiltMulti)"
   ],
   "metadata": {
    "collapsed": false,
    "ExecuteTime": {
     "start_time": "2024-03-26T14:26:53.994110Z",
     "end_time": "2024-03-26T14:27:39.326819Z"
    }
   }
  },
  {
   "cell_type": "code",
   "execution_count": null,
   "outputs": [],
   "source": [
    "# Computing performances quantities ---\n",
    "print('Multivariate estimator performance indicators ---')\n",
    "MSE_multi = MSEMeanNorm(R_star[:, 1:], R_multi) * 100  # for displaying purposes\n",
    "SNR_multi = SignaltoNoiseRatio(R_star[:, 1:], R_multi)\n",
    "JaccardIndex_multi = JaccardIndexAveraged(R_star[:, 1:], R_multi)\n",
    "print(\"MSE x 100 = %.3f (to minimize)\\nSNR = %.2f dB (to maximize)\\nAssociated Jaccard index = %.2f %%\" % (MSE_multi, SNR_multi, JaccardIndex_multi))"
   ],
   "metadata": {
    "collapsed": false,
    "ExecuteTime": {
     "start_time": "2024-03-26T14:27:39.326819Z",
     "end_time": "2024-03-26T14:27:39.367010Z"
    }
   }
  },
  {
   "cell_type": "markdown",
   "source": [
    "### Comparison between Univariate and Multivariate estimation on multivariate spatially correlated infection counts"
   ],
   "metadata": {
    "collapsed": false
   }
  },
  {
   "cell_type": "code",
   "execution_count": null,
   "outputs": [],
   "source": [
    "# Displaying comparison for chosen crafted infection counts, with chosen inter-county correlation level\n",
    "display_comparison_uni_multi(connectStruct, configMulti, R_star, R_uni, R_multi)\n",
    "display_comparison_error_uni_multi(connectStruct, configMulti, R_star, R_uni, R_multi)"
   ],
   "metadata": {
    "collapsed": false,
    "ExecuteTime": {
     "start_time": "2024-03-26T14:27:39.338848Z",
     "end_time": "2024-03-26T14:27:50.304358Z"
    }
   }
  }
 ],
 "metadata": {
  "kernelspec": {
   "display_name": "Python 3",
   "language": "python",
   "name": "python3"
  },
  "language_info": {
   "codemirror_mode": {
    "name": "ipython",
    "version": 2
   },
   "file_extension": ".py",
   "mimetype": "text/x-python",
   "name": "python",
   "nbconvert_exporter": "python",
   "pygments_lexer": "ipython2",
   "version": "2.7.6"
  }
 },
 "nbformat": 4,
 "nbformat_minor": 0
}
