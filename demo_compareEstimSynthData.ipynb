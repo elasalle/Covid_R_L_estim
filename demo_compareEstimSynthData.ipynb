{
 "cells": [
  {
   "cell_type": "code",
   "execution_count": null,
   "outputs": [],
   "source": [
    "from display import display_figures\n",
    "from display.display_figures_by_county import display_comparison_uni_multi, display_comparison_error_uni_multi\n",
    "\n",
    "from include.build_synth import buildData_fromRO as build\n",
    "from include.build_synth import load_RO as load\n",
    "from include.build_synth.Tikhonov_method import Tikhonov_spat_corr\n",
    "from include.build_synth.compute_spatCorrLevels import compute_spatCorrLevels\n",
    "\n",
    "from include.optim_tools.sliding_median import sliding_median\n",
    "\n",
    "# For Rt estimation\n",
    "from include.estim.Rt_MLE import Rt_MLE\n",
    "from include.estim.Rt_Gamma import Rt_Gamma\n",
    "from include.estim.Rt_Univariate import Rt_Univariate\n",
    "from include.estim.Rt_UnivariateOutliers import Rt_Univariate_Outliers\n",
    "from include.estim.Rt_Multivariate import Rt_Multivariate\n",
    "\n",
    "from include.comparison_tools import SNR\n",
    "from include.comparison_tools import jaccard_index\n",
    "from include.comparison_tools import MSE"
   ],
   "metadata": {
    "collapsed": false,
    "ExecuteTime": {
     "start_time": "2024-03-21T17:33:33.720251Z",
     "end_time": "2024-03-21T17:33:35.446961Z"
    }
   }
  },
  {
   "cell_type": "markdown",
   "source": [
    "## Building univariate synthetic infection counts\n",
    "\n",
    "Building according to the chosen configuration and initial number of cases.\n",
    "See demo_buildSyntheticData.ipynb for more detailed building synthetic data explanations."
   ],
   "metadata": {
    "collapsed": false
   }
  },
  {
   "cell_type": "code",
   "execution_count": null,
   "outputs": [],
   "source": [
    "configuration = 'I'  # Choice of configuration\n",
    "firstCases = 100  # Choice of number of first cases on day one\n",
    "\n",
    "# Loading realistic RTrue and OTrue\n",
    "RTrue, OTrue = load.loadROconfig(configuration)\n",
    "# Building synthetic data\n",
    "datesBuilt, ZDataBuilt = build.buildData_anyRO(RTrue, OTrue, firstCases)\n",
    "# Cropping RTrue for further comparisons\n",
    "RTrueCrop = RTrue[1:]"
   ],
   "metadata": {
    "collapsed": false,
    "ExecuteTime": {
     "start_time": "2024-03-20T17:57:49.390002Z",
     "end_time": "2024-03-20T17:57:49.408374Z"
    }
   }
  },
  {
   "cell_type": "code",
   "execution_count": null,
   "outputs": [],
   "source": [
    "# Intermediate display of built data\n",
    "fig, axes, formattedDatesBuilt = display_figures.display_dataBuilt(datesBuilt, ZDataBuilt, RTrue, OTrue)"
   ],
   "metadata": {
    "collapsed": false,
    "ExecuteTime": {
     "start_time": "2024-03-20T17:57:49.409367Z",
     "end_time": "2024-03-20T17:57:54.305553Z"
    }
   }
  },
  {
   "cell_type": "markdown",
   "source": [
    "## Comparison between R estimation methods\n",
    "\n",
    "### Signal-to-Ratio Noise (dB)\n",
    "\n",
    "$\\mathsf{SNR}:=  10 \\times \\log_{10}\\left( \\frac{\\lVert  \\boldsymbol{\\mathsf{R}}^{\\text{true}}\\rVert_2^2}{\\lVert \\widehat{\\boldsymbol{\\mathsf{R}}} - \\boldsymbol{\\mathsf{R}}^{\\text{true}} \\rVert_2^2}\\right)$\n",
    "\n",
    "where $\\widehat{\\boldsymbol{\\mathsf{R}}}$ is the estimated $\\boldsymbol{\\mathsf{R}}$ with a chosen method.\n",
    "### Jaccard index (%)\n",
    "\n",
    "For $\\boldsymbol{\\mathsf{X}}, \\boldsymbol{\\mathsf{Y}} \\in \\lbrace 0, 1\\rbrace^T, \\, \\,  \\mathsf{Jac}^{\\mathsf{g}}(\\boldsymbol{\\mathsf{X}},\\boldsymbol{\\mathsf{Y}}) := \\frac{\\sum_{t=1}^T \\sqrt{\\mathsf{X}^{\\mathsf{g}}_t \\times \\mathsf{Y}^{\\mathsf{g}}_t}}{\\sum_{t=1}^T \\mathsf{X}^{\\mathsf{g}}_t + \\mathsf{Y}^{\\mathsf{g}}_t - \\sqrt{\\mathsf{X}^{\\mathsf{g}}_t \\times \\mathsf{Y}^{\\mathsf{g}}_t}}$\n",
    "\n",
    "where $\\mathsf{X}^{\\mathsf{g}}$ (resp. $\\mathsf{Y}^{\\mathsf{g}}$) is the convolution between the binary vector $\\boldsymbol{\\mathsf{X}}$ (resp. $\\boldsymbol{\\mathsf{Y}}$) and a Gaussian distribution.\n",
    "(see include/comparison_tools/jaccardIndex.py for more details)"
   ],
   "metadata": {
    "collapsed": false
   }
  },
  {
   "cell_type": "markdown",
   "source": [
    "### Maximum Likelihood Estimator\n",
    "* $\\mathsf{R}^{\\mathsf{MLE}} \\in \\mathrm{arg\\, min}_{\\mathsf{R} \\in  \\mathbb{R} ^ {\\mathsf{T}}} -\\ln \\mathsf{Likelihood}(\\mathsf{Z} ^ {\\mathsf{denoised}},  \\mathsf{R})$"
   ],
   "metadata": {
    "collapsed": false
   }
  },
  {
   "cell_type": "code",
   "execution_count": null,
   "outputs": [],
   "source": [
    "# Analytic computation\n",
    "R_MLE, datesMLE, dataMLE = Rt_MLE(datesBuilt, ZDataBuilt)"
   ],
   "metadata": {
    "collapsed": false,
    "ExecuteTime": {
     "start_time": "2024-03-20T17:57:54.306591Z",
     "end_time": "2024-03-20T17:57:54.320120Z"
    }
   }
  },
  {
   "cell_type": "code",
   "execution_count": null,
   "outputs": [],
   "source": [
    "# Computing SNR and Jaccard index\n",
    "print('MLE Method indicators ---')\n",
    "SNR_MLE = SNR.SignaltoNoiseRatio(RTrueCrop, R_MLE)\n",
    "JaccardIndexMLE = jaccard_index.JaccardIndexREstim(RTrueCrop, R_MLE)\n",
    "print(\"SNR = %.3f dB, associated Jaccard index = %.3f %%\" % (SNR_MLE, JaccardIndexMLE))"
   ],
   "metadata": {
    "collapsed": false,
    "ExecuteTime": {
     "start_time": "2024-03-20T17:57:54.321118Z",
     "end_time": "2024-03-20T17:57:54.567950Z"
    }
   }
  },
  {
   "cell_type": "code",
   "execution_count": null,
   "outputs": [],
   "source": [
    "# Individual display\n",
    "figMLE, axesMLE, formattedDatesMLE = display_figures.display_REstim(datesMLE, dataMLE, R_MLE, 'MLE', RTrue=RTrue)"
   ],
   "metadata": {
    "collapsed": false,
    "ExecuteTime": {
     "start_time": "2024-03-20T17:57:54.337769Z",
     "end_time": "2024-03-20T17:57:54.567950Z"
    }
   }
  },
  {
   "cell_type": "markdown",
   "source": [
    "### Cori Estimator\n",
    "* $\\mathsf{R}^{\\mathsf{Cori}} = \\frac{1 + \\sum_{s = t -\\tau}^{t}\\mathsf{Z}_s}{5 + \\sum_{s = t -\\tau}^{t}(\\Phi\\star\\mathsf{Z})_s}$"
   ],
   "metadata": {
    "collapsed": false
   }
  },
  {
   "cell_type": "code",
   "execution_count": null,
   "outputs": [],
   "source": [
    "# Analytic computation\n",
    "R_Cori, datesCori, dataCori = Rt_Gamma(datesBuilt, ZDataBuilt)"
   ],
   "metadata": {
    "collapsed": false,
    "ExecuteTime": {
     "start_time": "2024-03-20T17:57:54.556059Z",
     "end_time": "2024-03-20T17:57:54.579550Z"
    }
   }
  },
  {
   "cell_type": "code",
   "execution_count": null,
   "outputs": [],
   "source": [
    "# Computing SNR and Jaccard index\n",
    "print('Cori Method indicators ---')\n",
    "SNR_Cori = SNR.SignaltoNoiseRatio(RTrueCrop, R_Cori)\n",
    "JaccardIndexCori = jaccard_index.JaccardIndexREstim(RTrueCrop, R_Cori)\n",
    "print(\"SNR = %.3f dB, associated Jaccard index = %.3f %%\" % (SNR_Cori, JaccardIndexCori))"
   ],
   "metadata": {
    "collapsed": false,
    "ExecuteTime": {
     "start_time": "2024-03-20T17:57:54.569978Z",
     "end_time": "2024-03-20T17:57:54.615871Z"
    }
   }
  },
  {
   "cell_type": "code",
   "execution_count": null,
   "outputs": [],
   "source": [
    "# Individual display\n",
    "figCori, axesCori, formattedDatesCori = display_figures.display_REstim(datesCori, dataCori, R_Cori, 'Cori', RTrue=RTrue)"
   ],
   "metadata": {
    "collapsed": false,
    "ExecuteTime": {
     "start_time": "2024-03-20T17:57:54.586038Z",
     "end_time": "2024-03-20T17:57:54.860481Z"
    }
   }
  },
  {
   "cell_type": "markdown",
   "source": [
    "### Penalized Likelihood estimation\n",
    "1. $\\mathsf{Z}^{\\mathsf{denoised}} = \\mathsf{slidingMedian}(\\mathsf{Z}, \\alpha)$\n",
    "\n",
    "2. $\\mathsf{R}^{\\mathsf{PL}} \\in \\mathrm{arg\\, min}_{\\mathsf{R} \\in  \\mathbb{R} ^ {\\mathsf{T}}} -\\ln \\mathsf{Likelihood}(\\mathsf{Z}^{\\mathsf{denoised}},  \\mathsf{R}) + \\mu_\\mathsf{R} \\| \\boldsymbol{\\mathsf{D}}_2\\mathsf{R}\\|_1$"
   ],
   "metadata": {
    "collapsed": false
   }
  },
  {
   "cell_type": "code",
   "execution_count": null,
   "outputs": [],
   "source": [
    "# Choice of denoising parameter alpha and regularization parameter muR\n",
    "alpha = 0\n",
    "muR = 50\n",
    "\n",
    "# Denoising with sliding MAD then solving with Chambolle-Pock algorithm\n",
    "denoisedData = sliding_median(ZDataBuilt, alpha)\n",
    "R_PL, datesPL, denoisedDataPL = Rt_Univariate(datesBuilt, denoisedData, muR)"
   ],
   "metadata": {
    "collapsed": false,
    "ExecuteTime": {
     "start_time": "2024-03-20T17:57:54.792529Z",
     "end_time": "2024-03-20T17:57:59.486911Z"
    }
   }
  },
  {
   "cell_type": "code",
   "execution_count": null,
   "outputs": [],
   "source": [
    "# Computing SNR and Jaccard index\n",
    "print('PL Method indicators ---')\n",
    "SNR_PL = SNR.SignaltoNoiseRatio(RTrueCrop, R_PL)\n",
    "JaccardIndexPL = jaccard_index.JaccardIndexREstim(RTrueCrop, R_PL)\n",
    "print(\"SNR = %.3f dB, associated Jaccard index = %.3f %%\" % (SNR_PL, JaccardIndexPL))"
   ],
   "metadata": {
    "collapsed": false,
    "ExecuteTime": {
     "start_time": "2024-03-20T17:57:59.489061Z",
     "end_time": "2024-03-20T17:57:59.530275Z"
    }
   }
  },
  {
   "cell_type": "code",
   "execution_count": null,
   "outputs": [],
   "source": [
    "# Individual display\n",
    "dataCropped = ZDataBuilt[1:]  # data[0] is used for burn-in\n",
    "figPL, axesPL, formattedDatesPL = display_figures.display_REstim(datesPL, dataCropped, R_PL, 'PL', RTrue=RTrue)"
   ],
   "metadata": {
    "collapsed": false,
    "ExecuteTime": {
     "start_time": "2024-03-20T17:57:59.502133Z",
     "end_time": "2024-03-20T17:57:59.702482Z"
    }
   }
  },
  {
   "cell_type": "markdown",
   "source": [
    "### Joint estimation\n",
    "\n",
    "* $\\mathsf{R}^{\\mathsf{Joint}}, \\mathsf{O}^{\\mathsf{Joint}} \\in  \\mathrm{arg\\, min}_{\\mathsf{R}, \\mathsf{O} \\in \\mathbb{R}^{\\mathsf{T}}} -\\ln \\mathsf{Likelihood}(\\mathsf{Z}, \\mathsf{R},  \\mathsf{O}) + \\lambda_\\mathsf{R} \\| \\boldsymbol{\\mathsf{D}}_2\\mathsf{R}\\|_1 + \\lambda_\\mathsf{O} \\| \\mathsf{O}\\|_1$"
   ],
   "metadata": {
    "collapsed": false
   }
  },
  {
   "cell_type": "code",
   "execution_count": null,
   "outputs": [],
   "source": [
    "# Choice of denoising parameter alpha and regularization parameter muR\n",
    "lambdaR = 3.5\n",
    "lambdaO = 0.03\n",
    "\n",
    "# Solving with Chambolle-Pock algorithm\n",
    "R_Joint, O_Joint, datesJ, dataJ = Rt_Univariate_Outliers(datesBuilt, ZDataBuilt, lambdaR, lambdaO)"
   ],
   "metadata": {
    "collapsed": false,
    "ExecuteTime": {
     "start_time": "2024-03-20T17:57:59.703461Z",
     "end_time": "2024-03-20T17:58:28.085702Z"
    }
   }
  },
  {
   "cell_type": "code",
   "execution_count": null,
   "outputs": [],
   "source": [
    "# Computing SNR and Jaccard index\n",
    "print('J Method indicators ---')\n",
    "SNR_Joint = SNR.SignaltoNoiseRatio(RTrueCrop, R_Joint)\n",
    "JaccardIndexJoint = jaccard_index.JaccardIndexREstim(RTrueCrop, R_Joint)\n",
    "print(\"SNR = %.3f dB, associated Jaccard index = %.3f %%\" % (SNR_Joint, JaccardIndexJoint))"
   ],
   "metadata": {
    "collapsed": false,
    "ExecuteTime": {
     "start_time": "2024-03-20T17:58:28.088695Z",
     "end_time": "2024-03-20T17:58:28.106716Z"
    }
   }
  },
  {
   "cell_type": "code",
   "execution_count": null,
   "outputs": [],
   "source": [
    "# Individual display\n",
    "figJoint, axesJoint, formattedDatesJoint = display_figures.display_REstim(datesJ, dataJ, R_Joint, 'Joint', RTrue=RTrue)"
   ],
   "metadata": {
    "collapsed": false,
    "ExecuteTime": {
     "start_time": "2024-03-20T17:58:28.103215Z",
     "end_time": "2024-03-20T17:58:28.288056Z"
    }
   }
  },
  {
   "cell_type": "markdown",
   "source": [
    "### Display comparison"
   ],
   "metadata": {
    "collapsed": false
   }
  },
  {
   "cell_type": "code",
   "execution_count": null,
   "outputs": [],
   "source": [
    "# Gather all methods\n",
    "methods = ['MLE', 'Cori', 'PL', 'Joint']\n",
    "REstimations = {'MLE': R_MLE,\n",
    "                'Cori': R_Cori,\n",
    "                'PL': R_PL,\n",
    "                'Joint': R_Joint}\n",
    "\n",
    "# Display comparison between methods\n",
    "figComp, axesComp, formattedDatesComp = display_figures.display_REstim(datesJ, dataJ, REstimations, methods, RTrue=RTrue, comparison=True)"
   ],
   "metadata": {
    "collapsed": false,
    "ExecuteTime": {
     "start_time": "2024-03-20T17:58:28.288056Z",
     "end_time": "2024-03-20T17:58:28.537706Z"
    }
   }
  },
  {
   "cell_type": "markdown",
   "source": [
    "## Multivariate/univariate performances comparison"
   ],
   "metadata": {
    "collapsed": false
   }
  },
  {
   "cell_type": "code",
   "execution_count": null,
   "outputs": [],
   "source": [
    "# Choice of connectivity structure and spatial correlation level (configMulti) for multivariate synthetic infection counts\n",
    "connectStruct = 'Line'\n",
    "\n",
    "# Adding inter-county correlations to initial realistic univariate R crafted on each county.\n",
    "R_by_county, O_by_county, firstCasesExample, B_matrix = load.loadROconfigMulti(connectStruct, '0')\n",
    "\n",
    "# Visualization of inter-county correlation levels\n",
    "delta_I, delta_II, delta_III, delta_IV = compute_spatCorrLevels(R_by_county, B_matrix, fileSuffix=connectStruct)\n",
    "deltaList = {'0': 0,\n",
    "             'I': delta_I,\n",
    "             'II': delta_II,\n",
    "             'III': delta_III,\n",
    "             'IV': delta_IV}\n",
    "\n",
    "# Build synthetic infection counts based on RTrue, OTrue and chosen firstCases for ONE CONFIGURATION\n",
    "configMulti = 'I'\n",
    "R_spat_corr = Tikhonov_spat_corr(R_by_county, B_matrix, delta=deltaList[configMulti])\n",
    "\n",
    "firstCasesMulti = firstCasesExample  # can be modified if needed\n",
    "datesBuilt, ZDataBuilt = build.buildDataMulti_anyRO(R_spat_corr, O_by_county, firstCasesMulti)"
   ],
   "metadata": {
    "collapsed": false,
    "ExecuteTime": {
     "start_time": "2024-03-21T17:33:41.333966Z",
     "end_time": "2024-03-21T17:33:41.392492Z"
    }
   }
  },
  {
   "cell_type": "code",
   "execution_count": null,
   "outputs": [],
   "source": [
    "R_uni, datesUpdated, dataCrop = Rt_Univariate(datesBuilt, ZDataBuilt)\n",
    "R_multi, datesUpdatedM, ZDataProc = Rt_Multivariate(datesBuilt, ZDataBuilt, B_matrix)"
   ],
   "metadata": {
    "collapsed": false,
    "ExecuteTime": {
     "start_time": "2024-03-21T17:33:45.560643Z",
     "end_time": "2024-03-21T17:34:27.891914Z"
    }
   }
  },
  {
   "cell_type": "code",
   "execution_count": null,
   "outputs": [],
   "source": [
    "display_comparison_uni_multi(connectStruct, configMulti, R_spat_corr, R_uni, R_multi)\n",
    "display_comparison_error_uni_multi(connectStruct, configMulti, R_spat_corr, R_uni, R_multi)"
   ],
   "metadata": {
    "collapsed": false,
    "ExecuteTime": {
     "start_time": "2024-03-21T17:34:43.273267Z",
     "end_time": "2024-03-21T17:35:21.132663Z"
    }
   }
  },
  {
   "cell_type": "markdown",
   "source": [],
   "metadata": {
    "collapsed": false
   }
  }
 ],
 "metadata": {
  "kernelspec": {
   "display_name": "Python 3",
   "language": "python",
   "name": "python3"
  },
  "language_info": {
   "codemirror_mode": {
    "name": "ipython",
    "version": 2
   },
   "file_extension": ".py",
   "mimetype": "text/x-python",
   "name": "python",
   "nbconvert_exporter": "python",
   "pygments_lexer": "ipython2",
   "version": "2.7.6"
  }
 },
 "nbformat": 4,
 "nbformat_minor": 0
}
