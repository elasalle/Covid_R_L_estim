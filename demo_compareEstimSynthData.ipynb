{
 "cells": [
  {
   "cell_type": "code",
   "execution_count": null,
   "outputs": [],
   "source": [
    "from display.display_figures import display_REstim, display_dataBuilt\n",
    "from display.display_figures_by_county import display_comparison_uni_multi, display_comparison_error_uni_multi\n",
    "\n",
    "from include.build_synth import buildData_fromRO as build\n",
    "from include.build_synth import load_RO as load\n",
    "from include.build_synth.Tikhonov_method import Tikhonov_spat_corr\n",
    "from include.build_synth.compute_spatCorrLevels import compute_spatCorrLevels\n",
    "\n",
    "from include.optim_tools.sliding_median import sliding_median\n",
    "\n",
    "# For Rt estimation\n",
    "from include.estim.Rt_MLE import Rt_MLE\n",
    "from include.estim.Rt_Gamma import Rt_Gamma\n",
    "from include.estim.Rt_Univariate import Rt_U\n",
    "from include.estim.Rt_UnivariateOutliers import Rt_U_O\n",
    "from include.estim.Rt_Multivariate import Rt_M\n",
    "\n",
    "from include.comparison_tools import SNR\n",
    "from include.comparison_tools import jaccard_index\n",
    "from include.comparison_tools import MSE"
   ],
   "metadata": {
    "collapsed": false,
    "ExecuteTime": {
     "start_time": "2024-03-22T19:21:49.554021Z",
     "end_time": "2024-03-22T19:21:50.534123Z"
    }
   }
  },
  {
   "cell_type": "markdown",
   "source": [
    "## Building univariate synthetic infection counts\n",
    "\n",
    "Building according to the chosen configuration and initial number of cases.\n",
    "See demo_buildSyntheticData.ipynb for more detailed building synthetic data explanations."
   ],
   "metadata": {
    "collapsed": false
   }
  },
  {
   "cell_type": "code",
   "execution_count": null,
   "outputs": [],
   "source": [
    "configuration = 'I'  # Choice of configuration\n",
    "firstCases = 100  # Choice of number of first cases on day one\n",
    "\n",
    "# Loading realistic RTrue and OTrue\n",
    "RTrue, OTrue = load.loadROconfig(configuration)\n",
    "\n",
    "# Building synthetic data\n",
    "ZDataBuilt, options = build.buildData_anyRO(RTrue, OTrue, firstCases)\n",
    "\n",
    "# Cropping RTrue for further comparisons\n",
    "RTrueCrop = RTrue[1:];"
   ],
   "metadata": {
    "collapsed": false,
    "ExecuteTime": {
     "start_time": "2024-03-22T19:19:29.927988Z",
     "end_time": "2024-03-22T19:19:30.043630Z"
    }
   }
  },
  {
   "cell_type": "code",
   "execution_count": null,
   "outputs": [],
   "source": [
    "# Intermediate display of built data\n",
    "display_dataBuilt(ZDataBuilt, RTrue, OTrue, options=options);"
   ],
   "metadata": {
    "collapsed": false,
    "ExecuteTime": {
     "start_time": "2024-03-22T19:09:15.563554Z",
     "end_time": "2024-03-22T19:09:20.201073Z"
    }
   }
  },
  {
   "cell_type": "markdown",
   "source": [
    "## Comparison between R estimation methods\n",
    "\n",
    "### Signal-to-Ratio Noise (dB)\n",
    "\n",
    "$\\mathsf{SNR}:=  10 \\times \\log_{10}\\left( \\frac{\\lVert  \\boldsymbol{\\mathsf{R}}^{\\text{true}}\\rVert_2^2}{\\lVert \\widehat{\\boldsymbol{\\mathsf{R}}} - \\boldsymbol{\\mathsf{R}}^{\\text{true}} \\rVert_2^2}\\right)$\n",
    "\n",
    "where $\\widehat{\\boldsymbol{\\mathsf{R}}}$ is the estimated $\\boldsymbol{\\mathsf{R}}$ with a chosen method.\n",
    "### Jaccard index (%)\n",
    "\n",
    "For $\\boldsymbol{\\mathsf{X}}, \\boldsymbol{\\mathsf{Y}} \\in \\lbrace 0, 1\\rbrace^T, \\, \\,  \\mathsf{Jac}^{\\mathsf{g}}(\\boldsymbol{\\mathsf{X}},\\boldsymbol{\\mathsf{Y}}) := \\frac{\\sum_{t=1}^T \\sqrt{\\mathsf{X}^{\\mathsf{g}}_t \\times \\mathsf{Y}^{\\mathsf{g}}_t}}{\\sum_{t=1}^T \\mathsf{X}^{\\mathsf{g}}_t + \\mathsf{Y}^{\\mathsf{g}}_t - \\sqrt{\\mathsf{X}^{\\mathsf{g}}_t \\times \\mathsf{Y}^{\\mathsf{g}}_t}}$\n",
    "\n",
    "where $\\mathsf{X}^{\\mathsf{g}}$ (resp. $\\mathsf{Y}^{\\mathsf{g}}$) is the convolution between the binary vector $\\boldsymbol{\\mathsf{X}}$ (resp. $\\boldsymbol{\\mathsf{Y}}$) and a Gaussian distribution.\n",
    "(see include/comparison_tools/jaccardIndex.py for more details)"
   ],
   "metadata": {
    "collapsed": false
   }
  },
  {
   "cell_type": "markdown",
   "source": [
    "### Maximum Likelihood Estimator\n",
    "* $\\mathsf{R}^{\\mathsf{MLE}} \\in \\mathrm{arg\\, min}_{\\mathsf{R} \\in  \\mathbb{R} ^ {\\mathsf{T}}} -\\ln \\mathsf{Likelihood}(\\mathsf{Z} ^ {\\mathsf{denoised}},  \\mathsf{R})$"
   ],
   "metadata": {
    "collapsed": false
   }
  },
  {
   "cell_type": "code",
   "execution_count": null,
   "outputs": [],
   "source": [
    "# Analytic computation\n",
    "Rt_MLE, options_MLE = Rt_MLE(ZDataBuilt, options)"
   ],
   "metadata": {
    "collapsed": false,
    "ExecuteTime": {
     "start_time": "2024-03-22T19:12:19.860128Z",
     "end_time": "2024-03-22T19:12:19.882402Z"
    }
   }
  },
  {
   "cell_type": "code",
   "execution_count": null,
   "outputs": [],
   "source": [
    "# Computing SNR and Jaccard index\n",
    "print('MLE Method indicators ---')\n",
    "SNR_MLE = SNR.SignaltoNoiseRatio(RTrueCrop, Rt_MLE)\n",
    "JaccardIndexMLE = jaccard_index.JaccardIndexREstim(RTrueCrop, Rt_MLE)\n",
    "print(\"SNR = %.3f dB, associated Jaccard index = %.3f %%\" % (SNR_MLE, JaccardIndexMLE))"
   ],
   "metadata": {
    "collapsed": false,
    "ExecuteTime": {
     "start_time": "2024-03-22T19:09:20.218351Z",
     "end_time": "2024-03-22T19:09:20.509125Z"
    }
   }
  },
  {
   "cell_type": "code",
   "execution_count": null,
   "outputs": [],
   "source": [
    "# Individual display\n",
    "display_REstim(Rt_MLE, RTrue=RTrue, options=options_MLE);"
   ],
   "metadata": {
    "collapsed": false,
    "ExecuteTime": {
     "start_time": "2024-03-22T19:09:20.234456Z",
     "end_time": "2024-03-22T19:09:21.635469Z"
    }
   }
  },
  {
   "cell_type": "markdown",
   "source": [
    "### Bayesian Estimator\n",
    "\n",
    "$$\\mathsf{R}_t^\\Gamma = \\frac{1 + \\sum_{s=t-\\tau}^{t}\\mathsf{Z}_s}{5 + \\sum_{s=t-\\tau}^{t}(\\Phi\\star\\mathsf{Z})_s}$$\n"
   ],
   "metadata": {
    "collapsed": false
   }
  },
  {
   "cell_type": "code",
   "execution_count": null,
   "outputs": [],
   "source": [
    "# Choice of the hyperparameter\n",
    "tau = 15\n",
    "\n",
    "# Analytic computation\n",
    "Rt_Gamma, options_Gamma = Rt_Gamma(ZDataBuilt, tau=tau, options=options)"
   ],
   "metadata": {
    "collapsed": false,
    "ExecuteTime": {
     "start_time": "2024-03-22T19:09:21.637712Z",
     "end_time": "2024-03-22T19:09:21.653783Z"
    }
   }
  },
  {
   "cell_type": "code",
   "execution_count": null,
   "outputs": [],
   "source": [
    "# Computing SNR and Jaccard index\n",
    "print('Cori Method indicators ---')\n",
    "SNR_Gamma = SNR.SignaltoNoiseRatio(RTrueCrop, Rt_Gamma)\n",
    "JaccardIndexGamma = jaccard_index.JaccardIndexREstim(RTrueCrop, Rt_Gamma)\n",
    "print(\"SNR = %.3f dB, associated Jaccard index = %.3f %%\" % (SNR_Gamma, JaccardIndexGamma))"
   ],
   "metadata": {
    "collapsed": false,
    "ExecuteTime": {
     "start_time": "2024-03-22T19:09:21.657950Z",
     "end_time": "2024-03-22T19:09:21.990950Z"
    }
   }
  },
  {
   "cell_type": "code",
   "execution_count": null,
   "outputs": [],
   "source": [
    "# Individual display\n",
    "display_REstim(Rt_Gamma, RTrue=RTrue, options=options_Gamma);"
   ],
   "metadata": {
    "collapsed": false,
    "ExecuteTime": {
     "start_time": "2024-03-22T19:09:21.668080Z",
     "end_time": "2024-03-22T19:09:22.040108Z"
    }
   }
  },
  {
   "cell_type": "markdown",
   "source": [
    "### Penalized Likelihood estimation\n",
    "1. $\\boldsymbol{\\mathsf{Z}}^{\\mathsf{denoised}} =$ `sliding_median`$(\\mathsf{Z}, \\alpha)$\n",
    "\n",
    "2. $ \\boldsymbol{\\mathsf{R}}^{\\mathsf{U}} = \\underset{\\boldsymbol{\\mathsf{R}} \\in \\mathbb{R}_+^{ T}}{\\mathrm{argmin}} \\,\\mathrm{D}_{\\mathsf{KL}}(\\boldsymbol{\\mathsf{Z}}^{\\mathsf{denoised}} | \\boldsymbol{\\mathsf{p}}) + \\lambda_{\\mathsf{L}}^{\\mathsf{U}} \\lVert \\mathsf{L} \\boldsymbol{\\mathsf{R}}\\rVert_1 , \\quad \\mathsf{p}_t = \\mathsf{R}_t \\Phi^{\\boldsymbol{\\mathsf{Z}}}_t$"
   ],
   "metadata": {
    "collapsed": false
   }
  },
  {
   "cell_type": "code",
   "execution_count": null,
   "outputs": [],
   "source": [
    "# Choice of denoising parameter alpha and regularization parameter muR\n",
    "alpha = 0.1\n",
    "muR = 50\n",
    "\n",
    "# Denoising with sliding median then solving with Chambolle-Pock algorithm\n",
    "Z_denoised = sliding_median(ZDataBuilt, alpha)\n",
    "Rt_U, options_U = Rt_U(Z_denoised, muR=muR, options=options)\n"
   ],
   "metadata": {
    "collapsed": false,
    "ExecuteTime": {
     "start_time": "2024-03-22T19:09:21.978866Z",
     "end_time": "2024-03-22T19:09:26.388569Z"
    }
   }
  },
  {
   "cell_type": "code",
   "execution_count": null,
   "outputs": [],
   "source": [
    "# Computing SNR and Jaccard index\n",
    "print('PL Method indicators ---')\n",
    "SNR_U = SNR.SignaltoNoiseRatio(RTrueCrop, Rt_U)\n",
    "JaccardIndexU = jaccard_index.JaccardIndexREstim(RTrueCrop, Rt_U)\n",
    "print(\"SNR = %.3f dB, associated Jaccard index = %.3f %%\" % (SNR_U, JaccardIndexU))"
   ],
   "metadata": {
    "collapsed": false,
    "ExecuteTime": {
     "start_time": "2024-03-22T19:09:26.392529Z",
     "end_time": "2024-03-22T19:09:26.433943Z"
    }
   }
  },
  {
   "cell_type": "code",
   "execution_count": null,
   "outputs": [],
   "source": [
    "# Individual display\n",
    "\n",
    "display_REstim(Rt_U, RTrue=RTrue, options=options_U);"
   ],
   "metadata": {
    "collapsed": false,
    "ExecuteTime": {
     "start_time": "2024-03-22T19:09:26.405307Z",
     "end_time": "2024-03-22T19:09:26.698998Z"
    }
   }
  },
  {
   "cell_type": "markdown",
   "source": [
    "### Joint estimation\n",
    "\n",
    "$$\\boldsymbol{\\mathsf{R}}^{\\mathsf{U-O}}, \\boldsymbol{\\mathsf{O}}^{\\mathsf{U-O}} = \\, \\underset{\\boldsymbol{\\mathsf{R}} \\in \\mathbb{R}_+^{ T}, \\boldsymbol{\\mathsf{O}} \\in \\mathbb{R}^{ T}}{\\mathrm{argmin}} \\,\\mathrm{D}_{\\mathsf{KL}}(\\boldsymbol{\\mathsf{Z}} | \\boldsymbol{\\mathsf{p}}) + \\lambda_{\\mathsf{L}}^{\\mathsf{U}} \\lVert \\mathsf{L} \\boldsymbol{\\mathsf{R}}\\rVert_1 + \\lambda_\\mathsf{O}^\\mathsf{U} \\lVert \\mathsf{O}\\rVert_1 , \\quad \\mathsf{p}_t = \\mathsf{R}_t \\Phi^{\\boldsymbol{\\mathsf{Z}}}_t$$"
   ],
   "metadata": {
    "collapsed": false
   }
  },
  {
   "cell_type": "code",
   "execution_count": null,
   "outputs": [],
   "source": [
    "# Choice of denoising parameter alpha and regularization parameter muR\n",
    "lambdaR = 3.5\n",
    "lambdaO = 0.03\n",
    "\n",
    "# Solving with Chambolle-Pock algorithm\n",
    "Rt_UO, Ot_UO, options_UO = Rt_U_O(ZDataBuilt, lambdaR=lambdaR, lambdaO=lambdaO, options=options)\n"
   ],
   "metadata": {
    "collapsed": false,
    "ExecuteTime": {
     "start_time": "2024-03-22T19:09:26.701990Z",
     "end_time": "2024-03-22T19:09:54.245412Z"
    }
   }
  },
  {
   "cell_type": "code",
   "execution_count": null,
   "outputs": [],
   "source": [
    "# Computing SNR and Jaccard index\n",
    "print('J Method indicators ---')\n",
    "SNR_UO = SNR.SignaltoNoiseRatio(RTrueCrop, Rt_UO)\n",
    "JaccardIndexUO = jaccard_index.JaccardIndexREstim(RTrueCrop, Rt_UO)\n",
    "print(\"SNR = %.3f dB, associated Jaccard index = %.3f %%\" % (SNR_UO, JaccardIndexUO))"
   ],
   "metadata": {
    "collapsed": false,
    "ExecuteTime": {
     "start_time": "2024-03-22T19:09:54.251645Z",
     "end_time": "2024-03-22T19:09:54.287907Z"
    }
   }
  },
  {
   "cell_type": "code",
   "execution_count": null,
   "outputs": [],
   "source": [
    "# Individual display\n",
    "display_REstim(Rt_UO, RTrue=RTrue, options=options_UO);"
   ],
   "metadata": {
    "collapsed": false,
    "ExecuteTime": {
     "start_time": "2024-03-22T19:09:54.260717Z",
     "end_time": "2024-03-22T19:09:54.555603Z"
    }
   }
  },
  {
   "cell_type": "markdown",
   "source": [
    "### Display comparison"
   ],
   "metadata": {
    "collapsed": false
   }
  },
  {
   "cell_type": "code",
   "execution_count": null,
   "outputs": [],
   "source": [
    "# Gather all methods\n",
    "REstimations = {'MLE': Rt_MLE, 'Gamma': Rt_Gamma, 'U': Rt_U, 'U-O': Rt_UO}\n",
    "optionsAll = {'MLE': options_MLE, 'Gamma': options_Gamma, 'U': options_U, 'U-O': options_UO}\n",
    "\n",
    "# Display comparison between methods\n",
    "display_REstim(REstimations, optionsAll, RTrue=RTrue, comparison=True);"
   ],
   "metadata": {
    "collapsed": false,
    "ExecuteTime": {
     "start_time": "2024-03-22T19:12:27.272222Z",
     "end_time": "2024-03-22T19:12:27.636141Z"
    }
   }
  },
  {
   "cell_type": "markdown",
   "source": [
    "## Multivariate/univariate performances comparison"
   ],
   "metadata": {
    "collapsed": false
   }
  },
  {
   "cell_type": "code",
   "execution_count": null,
   "outputs": [],
   "source": [
    "# Choice of connectivity structure and spatial correlation level (configMulti) for multivariate synthetic infection counts\n",
    "connectStruct = 'Line'\n",
    "\n",
    "# Adding inter-county correlations to initial realistic univariate R crafted on each county.\n",
    "R_by_county, O_by_county, firstCasesExample, B_matrix = load.loadROconfigMulti(connectStruct, '0')\n",
    "\n",
    "# Visualization of inter-county correlation levels\n",
    "delta_I, delta_II, delta_III, delta_IV = compute_spatCorrLevels(R_by_county, B_matrix, fileSuffix=connectStruct)\n",
    "deltaList = {'0': 0,\n",
    "             'I': delta_I,\n",
    "             'II': delta_II,\n",
    "             'III': delta_III,\n",
    "             'IV': delta_IV}\n",
    "\n",
    "# Build synthetic infection counts based on RTrue, OTrue and chosen firstCases for ONE CONFIGURATION\n",
    "configMulti = 'I'\n",
    "R_spat_corr = Tikhonov_spat_corr(R_by_county, B_matrix, delta=deltaList[configMulti])\n",
    "\n",
    "firstCasesMulti = firstCasesExample  # can be modified if needed\n",
    "ZDataBuilt, options = build.buildDataMulti_anyRO(R_spat_corr, O_by_county, firstCasesMulti, B_matrix)"
   ],
   "metadata": {
    "collapsed": false,
    "ExecuteTime": {
     "start_time": "2024-03-22T19:32:52.619938Z",
     "end_time": "2024-03-22T19:32:52.649840Z"
    }
   }
  },
  {
   "cell_type": "code",
   "execution_count": null,
   "outputs": [],
   "source": [
    "R_uni, options_U = Rt_U(ZDataBuilt, options=options)"
   ],
   "metadata": {
    "collapsed": false,
    "ExecuteTime": {
     "start_time": "2024-03-22T19:32:53.924122Z",
     "end_time": "2024-03-22T19:32:57.396472Z"
    }
   }
  },
  {
   "cell_type": "code",
   "execution_count": null,
   "outputs": [],
   "source": [
    "R_multi, options_M = Rt_M(ZDataBuilt, options=options)"
   ],
   "metadata": {
    "collapsed": false,
    "ExecuteTime": {
     "start_time": "2024-03-22T19:32:57.398564Z",
     "end_time": "2024-03-22T19:33:36.493080Z"
    }
   }
  },
  {
   "cell_type": "code",
   "execution_count": null,
   "outputs": [],
   "source": [
    "display_comparison_uni_multi(connectStruct, configMulti, R_spat_corr, R_uni, R_multi)\n",
    "display_comparison_error_uni_multi(connectStruct, configMulti, R_spat_corr, R_uni, R_multi)"
   ],
   "metadata": {
    "collapsed": false,
    "ExecuteTime": {
     "start_time": "2024-03-22T19:33:47.281880Z",
     "end_time": "2024-03-22T19:33:55.862087Z"
    }
   }
  },
  {
   "cell_type": "markdown",
   "source": [],
   "metadata": {
    "collapsed": false
   }
  }
 ],
 "metadata": {
  "kernelspec": {
   "display_name": "Python 3",
   "language": "python",
   "name": "python3"
  },
  "language_info": {
   "codemirror_mode": {
    "name": "ipython",
    "version": 2
   },
   "file_extension": ".py",
   "mimetype": "text/x-python",
   "name": "python",
   "nbconvert_exporter": "python",
   "pygments_lexer": "ipython2",
   "version": "2.7.6"
  }
 },
 "nbformat": 4,
 "nbformat_minor": 0
}
